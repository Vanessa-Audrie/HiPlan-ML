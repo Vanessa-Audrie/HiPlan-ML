{
 "cells": [
  {
   "cell_type": "code",
   "execution_count": 20,
   "id": "930adcf2",
   "metadata": {},
   "outputs": [],
   "source": [
    "# import libraries\n",
    "import joblib\n",
    "import json\n",
    "import pandas as pd\n",
    "from tensorflow.keras.models import load_model"
   ]
  },
  {
   "cell_type": "code",
   "execution_count": 21,
   "id": "b14409f0",
   "metadata": {},
   "outputs": [],
   "source": [
    "# Load saved model, scaler, and features\n",
    "model = load_model('saved_model/best_model.keras')\n",
    "scaler = joblib.load('saved_model/minmax_scaler.pkl')\n",
    "with open('saved_model/feature_list.json', 'r') as f:\n",
    "    features = json.load(f)"
   ]
  },
  {
   "cell_type": "code",
   "execution_count": 22,
   "id": "3765134e",
   "metadata": {},
   "outputs": [],
   "source": [
    "# time format function\n",
    "def hours_to_hh_mm(hours):\n",
    "    h = int(hours)\n",
    "    m = int(round((hours - h) * 60))\n",
    "    return f\"{h} jam {m} menit\""
   ]
  },
  {
   "cell_type": "code",
   "execution_count": 23,
   "id": "c0571303",
   "metadata": {},
   "outputs": [
    {
     "name": "stdout",
     "output_type": "stream",
     "text": [
      "Data yang dimasukkan:\n",
      "ketinggian: 3475.0\n",
      "jarak: 6090.0\n",
      "elevation_gain: 2657.0\n",
      "temp: 27.0\n",
      "precipprob: 85.0\n",
      "windspeed: 14.0\n",
      "humidity: 88.0\n"
     ]
    }
   ],
   "source": [
    "def get_input_dict():\n",
    "    return {\n",
    "        \"ketinggian\": float(input(\"Masukkan ketinggian (m): \")),\n",
    "        \"jarak\": float(input(\"Masukkan jarak (m): \")),\n",
    "        \"elevation_gain\": float(input(\"Masukkan elevation gain (m): \")),\n",
    "        \"temp\": float(input(\"Masukkan suhu rata-rata (°C): \")),\n",
    "        \"precipprob\": float(input(\"Masukkan probabilitas hujan (%): \")),\n",
    "        \"windspeed\": float(input(\"Masukkan kecepatan angin (km/jam): \")),\n",
    "        \"humidity\": float(input(\"Masukkan kelembapan udara (%): \"))\n",
    "    }\n",
    "\n",
    "new_input = pd.DataFrame([get_input_dict()])\n",
    "print(\"Data yang dimasukkan:\")\n",
    "for key, value in new_input.iloc[0].items():\n",
    "    print(f\"{key}: {value}\")"
   ]
  },
  {
   "cell_type": "code",
   "execution_count": 24,
   "id": "961e549e",
   "metadata": {},
   "outputs": [
    {
     "name": "stdout",
     "output_type": "stream",
     "text": [
      "\u001b[1m1/1\u001b[0m \u001b[32m━━━━━━━━━━━━━━━━━━━━\u001b[0m\u001b[37m\u001b[0m \u001b[1m0s\u001b[0m 49ms/step\n",
      "Predicted Difficulty Score: 5.13 / 10\n",
      "Estimated Time: 8 jam 50 menit\n"
     ]
    }
   ],
   "source": [
    "# process input and predict\n",
    "new_scaled = scaler.transform(new_input[features])\n",
    "pred_difficulty, pred_time = model.predict(new_scaled)[0]\n",
    "\n",
    "# print results\n",
    "formatted_time = hours_to_hh_mm(pred_time)\n",
    "print(f\"Predicted Difficulty Score: {pred_difficulty:.2f} / 10\")\n",
    "print(f\"Estimated Time: {formatted_time}\")"
   ]
  }
 ],
 "metadata": {
  "kernelspec": {
   "display_name": "main-ds",
   "language": "python",
   "name": "python3"
  },
  "language_info": {
   "codemirror_mode": {
    "name": "ipython",
    "version": 3
   },
   "file_extension": ".py",
   "mimetype": "text/x-python",
   "name": "python",
   "nbconvert_exporter": "python",
   "pygments_lexer": "ipython3",
   "version": "3.9.18"
  }
 },
 "nbformat": 4,
 "nbformat_minor": 5
}
