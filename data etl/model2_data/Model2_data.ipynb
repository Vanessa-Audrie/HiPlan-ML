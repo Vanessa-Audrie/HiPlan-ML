{
  "cells": [
    {
      "cell_type": "markdown",
      "metadata": {
        "id": "co4zqIGG8sxy"
      },
      "source": [
        "# Import Libraries"
      ]
    },
    {
      "cell_type": "code",
      "execution_count": 1,
      "metadata": {
        "id": "w1B2OPOoytl0"
      },
      "outputs": [],
      "source": [
        "import pandas as pd\n",
        "import numpy as np\n",
        "import seaborn as sns\n",
        "import matplotlib.pyplot as plt\n",
        "import gdown\n",
        "import math\n",
        "from sklearn.preprocessing import MinMaxScaler"
      ]
    },
    {
      "cell_type": "markdown",
      "metadata": {
        "id": "VkoC5d-v8u50"
      },
      "source": [
        "# Load Dataset"
      ]
    },
    {
      "cell_type": "code",
      "execution_count": 2,
      "metadata": {
        "colab": {
          "base_uri": "https://localhost:8080/"
        },
        "id": "_BxARK-U_fcE",
        "outputId": "d573417b-8074-4c5e-c19c-24234439b20e"
      },
      "outputs": [
        {
          "name": "stderr",
          "output_type": "stream",
          "text": [
            "Downloading...\n",
            "From: https://drive.google.com/uc?id=10KW8aIbG2yZi1Xw545usPdrsprNZsdf4\n",
            "To: d:\\Kuliah\\DBS\\capstone data\\dataset\\data etl\\model2_data\\mountains.csv\n",
            "100%|██████████| 23.8k/23.8k [00:00<00:00, 517kB/s]\n",
            "Downloading...\n",
            "From (original): https://drive.google.com/uc?id=1kzzLkqeBPVxUr-9Ec0GPsPR7UqtRdeMk\n",
            "From (redirected): https://drive.google.com/uc?id=1kzzLkqeBPVxUr-9Ec0GPsPR7UqtRdeMk&confirm=t&uuid=77ce04ea-e8cb-40c0-8d70-c7d8569fd295\n",
            "To: d:\\Kuliah\\DBS\\capstone data\\dataset\\data etl\\model2_data\\weather.csv\n",
            "100%|██████████| 132M/132M [03:22<00:00, 652kB/s] \n"
          ]
        }
      ],
      "source": [
        "# File 1: mountains.csv\n",
        "mountains_url = 'https://drive.google.com/uc?id=10KW8aIbG2yZi1Xw545usPdrsprNZsdf4'\n",
        "mountains_output = 'mountains.csv'\n",
        "gdown.download(mountains_url, mountains_output, quiet=False)\n",
        "mountains = pd.read_csv(mountains_output)\n",
        "\n",
        "# File 2: weather.csv\n",
        "weather_url = 'https://drive.google.com/uc?id=1kzzLkqeBPVxUr-9Ec0GPsPR7UqtRdeMk'\n",
        "weather_output = 'weather.csv'\n",
        "gdown.download(weather_url, weather_output, quiet=False)\n",
        "weather = pd.read_csv(weather_output)"
      ]
    },
    {
      "cell_type": "code",
      "execution_count": 3,
      "metadata": {
        "colab": {
          "base_uri": "https://localhost:8080/"
        },
        "id": "YabWKpD-_sTP",
        "outputId": "797efe1d-4cd0-4e33-f509-dafac18fa812"
      },
      "outputs": [
        {
          "name": "stdout",
          "output_type": "stream",
          "text": [
            "<class 'pandas.core.frame.DataFrame'>\n",
            "RangeIndex: 207 entries, 0 to 206\n",
            "Data columns (total 12 columns):\n",
            " #   Column          Non-Null Count  Dtype  \n",
            "---  ------          --------------  -----  \n",
            " 0   nama            207 non-null    object \n",
            " 1   provinsi        207 non-null    object \n",
            " 2   kabupaten       207 non-null    object \n",
            " 3   kecamatan       207 non-null    object \n",
            " 4   ketinggian      207 non-null    int64  \n",
            " 5   jenis gunung    207 non-null    object \n",
            " 6   status          207 non-null    object \n",
            " 7   akses           207 non-null    object \n",
            " 8   jarak           207 non-null    int64  \n",
            " 9   elevation gain  207 non-null    int64  \n",
            " 10  latitude        207 non-null    float64\n",
            " 11  longitude       207 non-null    float64\n",
            "dtypes: float64(2), int64(3), object(7)\n",
            "memory usage: 19.5+ KB\n"
          ]
        }
      ],
      "source": [
        "mountains.info()"
      ]
    },
    {
      "cell_type": "code",
      "execution_count": 4,
      "metadata": {
        "colab": {
          "base_uri": "https://localhost:8080/"
        },
        "id": "zAsNXUBW_u1W",
        "outputId": "46d5f482-27bc-45ab-ed64-d8f68cddf0aa"
      },
      "outputs": [
        {
          "name": "stdout",
          "output_type": "stream",
          "text": [
            "<class 'pandas.core.frame.DataFrame'>\n",
            "RangeIndex: 408416 entries, 0 to 408415\n",
            "Data columns (total 40 columns):\n",
            " #   Column          Non-Null Count   Dtype  \n",
            "---  ------          --------------   -----  \n",
            " 0   datetime        408416 non-null  object \n",
            " 1   datetimeepoch   408416 non-null  int64  \n",
            " 2   tempmax         408416 non-null  float64\n",
            " 3   tempmin         408416 non-null  float64\n",
            " 4   temp            408416 non-null  float64\n",
            " 5   feelslikemax    408416 non-null  float64\n",
            " 6   feelslikemin    408416 non-null  float64\n",
            " 7   feelslike       408416 non-null  float64\n",
            " 8   dew             408416 non-null  float64\n",
            " 9   humidity        408416 non-null  float64\n",
            " 10  precip          408416 non-null  float64\n",
            " 11  precipprob      408416 non-null  float64\n",
            " 12  precipcover     408416 non-null  float64\n",
            " 13  snow            408416 non-null  float64\n",
            " 14  snowdepth       408416 non-null  float64\n",
            " 15  windgust        408416 non-null  float64\n",
            " 16  windspeed       408416 non-null  float64\n",
            " 17  winddir         408416 non-null  float64\n",
            " 18  pressure        408416 non-null  float64\n",
            " 19  cloudcover      408416 non-null  float64\n",
            " 20  visibility      408416 non-null  float64\n",
            " 21  solarradiation  408416 non-null  float64\n",
            " 22  solarenergy     408416 non-null  float64\n",
            " 23  uvindex         408416 non-null  float64\n",
            " 24  sunrise         408416 non-null  object \n",
            " 25  sunriseepoch    408416 non-null  int64  \n",
            " 26  sunset          408416 non-null  object \n",
            " 27  sunsetepoch     408416 non-null  int64  \n",
            " 28  moonphase       408416 non-null  float64\n",
            " 29  conditions      408416 non-null  object \n",
            " 30  description     408416 non-null  object \n",
            " 31  icon            408416 non-null  object \n",
            " 32  stations        408416 non-null  object \n",
            " 33  source          408416 non-null  object \n",
            " 34  kecamatan       408416 non-null  object \n",
            " 35  severerisk      408416 non-null  float64\n",
            " 36  day             408416 non-null  int64  \n",
            " 37  month           408416 non-null  int64  \n",
            " 38  weekday         408416 non-null  int64  \n",
            " 39  year            408416 non-null  int64  \n",
            "dtypes: float64(24), int64(7), object(9)\n",
            "memory usage: 124.6+ MB\n"
          ]
        }
      ],
      "source": [
        "weather.info()"
      ]
    },
    {
      "cell_type": "markdown",
      "metadata": {
        "id": "mcR-ZAG08x1W"
      },
      "source": [
        "# Merge Dataset"
      ]
    },
    {
      "cell_type": "code",
      "execution_count": 5,
      "metadata": {
        "id": "ss0B4gD-_0Vu"
      },
      "outputs": [],
      "source": [
        "# Merge on kecamatan\n",
        "combined_df = pd.merge(weather, mountains, on='kecamatan', how='inner')"
      ]
    },
    {
      "cell_type": "code",
      "execution_count": 6,
      "metadata": {
        "id": "Lm8S6FIoVJd1"
      },
      "outputs": [],
      "source": [
        "combined_df['datetime'] = pd.to_datetime(combined_df['datetime'])\n",
        "\n",
        "# Sort by datetime\n",
        "combined_df = combined_df.sort_values(by='datetime').reset_index(drop=True)"
      ]
    },
    {
      "cell_type": "code",
      "execution_count": 7,
      "metadata": {
        "colab": {
          "base_uri": "https://localhost:8080/",
          "height": 652
        },
        "id": "GDrPjvkvVTgW",
        "outputId": "eaf9ca4a-0805-4df2-bb8d-7a4c63b4e26d"
      },
      "outputs": [
        {
          "data": {
            "text/html": [
              "<div>\n",
              "<style scoped>\n",
              "    .dataframe tbody tr th:only-of-type {\n",
              "        vertical-align: middle;\n",
              "    }\n",
              "\n",
              "    .dataframe tbody tr th {\n",
              "        vertical-align: top;\n",
              "    }\n",
              "\n",
              "    .dataframe thead th {\n",
              "        text-align: right;\n",
              "    }\n",
              "</style>\n",
              "<table border=\"1\" class=\"dataframe\">\n",
              "  <thead>\n",
              "    <tr style=\"text-align: right;\">\n",
              "      <th></th>\n",
              "      <th>datetime</th>\n",
              "      <th>datetimeepoch</th>\n",
              "      <th>tempmax</th>\n",
              "      <th>tempmin</th>\n",
              "      <th>temp</th>\n",
              "      <th>feelslikemax</th>\n",
              "      <th>feelslikemin</th>\n",
              "      <th>feelslike</th>\n",
              "      <th>dew</th>\n",
              "      <th>humidity</th>\n",
              "      <th>...</th>\n",
              "      <th>provinsi</th>\n",
              "      <th>kabupaten</th>\n",
              "      <th>ketinggian</th>\n",
              "      <th>jenis gunung</th>\n",
              "      <th>status</th>\n",
              "      <th>akses</th>\n",
              "      <th>jarak</th>\n",
              "      <th>elevation gain</th>\n",
              "      <th>latitude</th>\n",
              "      <th>longitude</th>\n",
              "    </tr>\n",
              "  </thead>\n",
              "  <tbody>\n",
              "    <tr>\n",
              "      <th>0</th>\n",
              "      <td>2020-01-01</td>\n",
              "      <td>1577811600</td>\n",
              "      <td>31.1</td>\n",
              "      <td>20.6</td>\n",
              "      <td>24.8</td>\n",
              "      <td>36.9</td>\n",
              "      <td>20.6</td>\n",
              "      <td>26.0</td>\n",
              "      <td>22.0</td>\n",
              "      <td>85.6</td>\n",
              "      <td>...</td>\n",
              "      <td>sumatera utara</td>\n",
              "      <td>tapanuli selatan</td>\n",
              "      <td>1900</td>\n",
              "      <td>stratovolcano</td>\n",
              "      <td>tidak aktif</td>\n",
              "      <td>buka</td>\n",
              "      <td>11000</td>\n",
              "      <td>1000</td>\n",
              "      <td>1.478815</td>\n",
              "      <td>99.208871</td>\n",
              "    </tr>\n",
              "    <tr>\n",
              "      <th>1</th>\n",
              "      <td>2020-01-01</td>\n",
              "      <td>1577808000</td>\n",
              "      <td>30.1</td>\n",
              "      <td>24.7</td>\n",
              "      <td>27.4</td>\n",
              "      <td>37.4</td>\n",
              "      <td>24.7</td>\n",
              "      <td>30.9</td>\n",
              "      <td>24.9</td>\n",
              "      <td>86.3</td>\n",
              "      <td>...</td>\n",
              "      <td>bali</td>\n",
              "      <td>tabanan</td>\n",
              "      <td>2087</td>\n",
              "      <td>stratovolcano</td>\n",
              "      <td>tidak aktif</td>\n",
              "      <td>buka</td>\n",
              "      <td>10100</td>\n",
              "      <td>790</td>\n",
              "      <td>8.307259</td>\n",
              "      <td>115.101937</td>\n",
              "    </tr>\n",
              "    <tr>\n",
              "      <th>2</th>\n",
              "      <td>2020-01-01</td>\n",
              "      <td>1577811600</td>\n",
              "      <td>31.3</td>\n",
              "      <td>20.4</td>\n",
              "      <td>25.6</td>\n",
              "      <td>37.8</td>\n",
              "      <td>20.4</td>\n",
              "      <td>27.3</td>\n",
              "      <td>22.6</td>\n",
              "      <td>84.8</td>\n",
              "      <td>...</td>\n",
              "      <td>jawa tengah</td>\n",
              "      <td>kendal</td>\n",
              "      <td>2590</td>\n",
              "      <td>non volcanic</td>\n",
              "      <td>tidak aktif</td>\n",
              "      <td>buka</td>\n",
              "      <td>9000</td>\n",
              "      <td>600</td>\n",
              "      <td>7.033638</td>\n",
              "      <td>109.954152</td>\n",
              "    </tr>\n",
              "    <tr>\n",
              "      <th>3</th>\n",
              "      <td>2020-01-01</td>\n",
              "      <td>1577811600</td>\n",
              "      <td>31.3</td>\n",
              "      <td>20.4</td>\n",
              "      <td>25.6</td>\n",
              "      <td>37.8</td>\n",
              "      <td>20.4</td>\n",
              "      <td>27.3</td>\n",
              "      <td>22.6</td>\n",
              "      <td>84.8</td>\n",
              "      <td>...</td>\n",
              "      <td>jawa tengah</td>\n",
              "      <td>wonosobo</td>\n",
              "      <td>2365</td>\n",
              "      <td>maar volcano</td>\n",
              "      <td>tidak aktif</td>\n",
              "      <td>buka</td>\n",
              "      <td>3500</td>\n",
              "      <td>350</td>\n",
              "      <td>7.238485</td>\n",
              "      <td>109.888846</td>\n",
              "    </tr>\n",
              "    <tr>\n",
              "      <th>4</th>\n",
              "      <td>2020-01-01</td>\n",
              "      <td>1577808000</td>\n",
              "      <td>30.1</td>\n",
              "      <td>21.9</td>\n",
              "      <td>27.1</td>\n",
              "      <td>37.4</td>\n",
              "      <td>21.9</td>\n",
              "      <td>30.5</td>\n",
              "      <td>24.7</td>\n",
              "      <td>86.9</td>\n",
              "      <td>...</td>\n",
              "      <td>bali</td>\n",
              "      <td>badung</td>\n",
              "      <td>2096</td>\n",
              "      <td>caldera</td>\n",
              "      <td>tidak aktif</td>\n",
              "      <td>buka</td>\n",
              "      <td>14600</td>\n",
              "      <td>1462</td>\n",
              "      <td>8.247104</td>\n",
              "      <td>115.187623</td>\n",
              "    </tr>\n",
              "    <tr>\n",
              "      <th>...</th>\n",
              "      <td>...</td>\n",
              "      <td>...</td>\n",
              "      <td>...</td>\n",
              "      <td>...</td>\n",
              "      <td>...</td>\n",
              "      <td>...</td>\n",
              "      <td>...</td>\n",
              "      <td>...</td>\n",
              "      <td>...</td>\n",
              "      <td>...</td>\n",
              "      <td>...</td>\n",
              "      <td>...</td>\n",
              "      <td>...</td>\n",
              "      <td>...</td>\n",
              "      <td>...</td>\n",
              "      <td>...</td>\n",
              "      <td>...</td>\n",
              "      <td>...</td>\n",
              "      <td>...</td>\n",
              "      <td>...</td>\n",
              "      <td>...</td>\n",
              "    </tr>\n",
              "    <tr>\n",
              "      <th>440435</th>\n",
              "      <td>2025-05-20</td>\n",
              "      <td>1747674000</td>\n",
              "      <td>33.0</td>\n",
              "      <td>25.0</td>\n",
              "      <td>28.9</td>\n",
              "      <td>39.7</td>\n",
              "      <td>25.0</td>\n",
              "      <td>32.8</td>\n",
              "      <td>24.3</td>\n",
              "      <td>77.5</td>\n",
              "      <td>...</td>\n",
              "      <td>jawa barat</td>\n",
              "      <td>purwakarta</td>\n",
              "      <td>2050</td>\n",
              "      <td>stratovolcano</td>\n",
              "      <td>tidak aktif</td>\n",
              "      <td>buka</td>\n",
              "      <td>11000</td>\n",
              "      <td>1100</td>\n",
              "      <td>6.773272</td>\n",
              "      <td>107.555684</td>\n",
              "    </tr>\n",
              "    <tr>\n",
              "      <th>440436</th>\n",
              "      <td>2025-05-20</td>\n",
              "      <td>1747670400</td>\n",
              "      <td>28.7</td>\n",
              "      <td>26.7</td>\n",
              "      <td>27.7</td>\n",
              "      <td>31.6</td>\n",
              "      <td>26.7</td>\n",
              "      <td>30.0</td>\n",
              "      <td>22.0</td>\n",
              "      <td>71.2</td>\n",
              "      <td>...</td>\n",
              "      <td>nusa tenggara timur</td>\n",
              "      <td>sikka</td>\n",
              "      <td>875</td>\n",
              "      <td>stratovolcano</td>\n",
              "      <td>aktif</td>\n",
              "      <td>tutup</td>\n",
              "      <td>13200</td>\n",
              "      <td>735</td>\n",
              "      <td>8.328063</td>\n",
              "      <td>121.713110</td>\n",
              "    </tr>\n",
              "    <tr>\n",
              "      <th>440437</th>\n",
              "      <td>2025-05-20</td>\n",
              "      <td>1747674000</td>\n",
              "      <td>29.4</td>\n",
              "      <td>22.2</td>\n",
              "      <td>24.9</td>\n",
              "      <td>32.8</td>\n",
              "      <td>22.2</td>\n",
              "      <td>25.8</td>\n",
              "      <td>22.4</td>\n",
              "      <td>86.6</td>\n",
              "      <td>...</td>\n",
              "      <td>jawa tengah</td>\n",
              "      <td>boyolali</td>\n",
              "      <td>2897</td>\n",
              "      <td>stratovolcano</td>\n",
              "      <td>aktif</td>\n",
              "      <td>tutup</td>\n",
              "      <td>8900</td>\n",
              "      <td>1300</td>\n",
              "      <td>7.539951</td>\n",
              "      <td>110.447011</td>\n",
              "    </tr>\n",
              "    <tr>\n",
              "      <th>440438</th>\n",
              "      <td>2025-05-20</td>\n",
              "      <td>1747670400</td>\n",
              "      <td>28.8</td>\n",
              "      <td>24.3</td>\n",
              "      <td>26.7</td>\n",
              "      <td>32.8</td>\n",
              "      <td>24.3</td>\n",
              "      <td>28.2</td>\n",
              "      <td>23.1</td>\n",
              "      <td>81.1</td>\n",
              "      <td>...</td>\n",
              "      <td>gorontalo</td>\n",
              "      <td>pahuwato</td>\n",
              "      <td>1539</td>\n",
              "      <td>extinct volcano</td>\n",
              "      <td>tidak aktif</td>\n",
              "      <td>buka</td>\n",
              "      <td>15000</td>\n",
              "      <td>1100</td>\n",
              "      <td>0.647312</td>\n",
              "      <td>121.248049</td>\n",
              "    </tr>\n",
              "    <tr>\n",
              "      <th>440439</th>\n",
              "      <td>2025-05-20</td>\n",
              "      <td>1747674000</td>\n",
              "      <td>26.4</td>\n",
              "      <td>19.3</td>\n",
              "      <td>21.7</td>\n",
              "      <td>26.4</td>\n",
              "      <td>19.3</td>\n",
              "      <td>21.7</td>\n",
              "      <td>20.2</td>\n",
              "      <td>91.9</td>\n",
              "      <td>...</td>\n",
              "      <td>jawa timur</td>\n",
              "      <td>blitar</td>\n",
              "      <td>3156</td>\n",
              "      <td>stratovolcano</td>\n",
              "      <td>aktif</td>\n",
              "      <td>tutup</td>\n",
              "      <td>16600</td>\n",
              "      <td>1425</td>\n",
              "      <td>7.915987</td>\n",
              "      <td>112.452746</td>\n",
              "    </tr>\n",
              "  </tbody>\n",
              "</table>\n",
              "<p>440440 rows × 51 columns</p>\n",
              "</div>"
            ],
            "text/plain": [
              "         datetime  datetimeepoch  tempmax  tempmin  temp  feelslikemax  \\\n",
              "0      2020-01-01     1577811600     31.1     20.6  24.8          36.9   \n",
              "1      2020-01-01     1577808000     30.1     24.7  27.4          37.4   \n",
              "2      2020-01-01     1577811600     31.3     20.4  25.6          37.8   \n",
              "3      2020-01-01     1577811600     31.3     20.4  25.6          37.8   \n",
              "4      2020-01-01     1577808000     30.1     21.9  27.1          37.4   \n",
              "...           ...            ...      ...      ...   ...           ...   \n",
              "440435 2025-05-20     1747674000     33.0     25.0  28.9          39.7   \n",
              "440436 2025-05-20     1747670400     28.7     26.7  27.7          31.6   \n",
              "440437 2025-05-20     1747674000     29.4     22.2  24.9          32.8   \n",
              "440438 2025-05-20     1747670400     28.8     24.3  26.7          32.8   \n",
              "440439 2025-05-20     1747674000     26.4     19.3  21.7          26.4   \n",
              "\n",
              "        feelslikemin  feelslike   dew  humidity  ...             provinsi  \\\n",
              "0               20.6       26.0  22.0      85.6  ...       sumatera utara   \n",
              "1               24.7       30.9  24.9      86.3  ...                 bali   \n",
              "2               20.4       27.3  22.6      84.8  ...          jawa tengah   \n",
              "3               20.4       27.3  22.6      84.8  ...          jawa tengah   \n",
              "4               21.9       30.5  24.7      86.9  ...                 bali   \n",
              "...              ...        ...   ...       ...  ...                  ...   \n",
              "440435          25.0       32.8  24.3      77.5  ...           jawa barat   \n",
              "440436          26.7       30.0  22.0      71.2  ...  nusa tenggara timur   \n",
              "440437          22.2       25.8  22.4      86.6  ...          jawa tengah   \n",
              "440438          24.3       28.2  23.1      81.1  ...            gorontalo   \n",
              "440439          19.3       21.7  20.2      91.9  ...           jawa timur   \n",
              "\n",
              "               kabupaten  ketinggian     jenis gunung       status  akses  \\\n",
              "0       tapanuli selatan        1900    stratovolcano  tidak aktif   buka   \n",
              "1                tabanan        2087    stratovolcano  tidak aktif   buka   \n",
              "2                 kendal        2590     non volcanic  tidak aktif   buka   \n",
              "3               wonosobo        2365     maar volcano  tidak aktif   buka   \n",
              "4                 badung        2096          caldera  tidak aktif   buka   \n",
              "...                  ...         ...              ...          ...    ...   \n",
              "440435        purwakarta        2050    stratovolcano  tidak aktif   buka   \n",
              "440436             sikka         875    stratovolcano        aktif  tutup   \n",
              "440437          boyolali        2897    stratovolcano        aktif  tutup   \n",
              "440438          pahuwato        1539  extinct volcano  tidak aktif   buka   \n",
              "440439            blitar        3156    stratovolcano        aktif  tutup   \n",
              "\n",
              "        jarak  elevation gain  latitude   longitude  \n",
              "0       11000            1000  1.478815   99.208871  \n",
              "1       10100             790  8.307259  115.101937  \n",
              "2        9000             600  7.033638  109.954152  \n",
              "3        3500             350  7.238485  109.888846  \n",
              "4       14600            1462  8.247104  115.187623  \n",
              "...       ...             ...       ...         ...  \n",
              "440435  11000            1100  6.773272  107.555684  \n",
              "440436  13200             735  8.328063  121.713110  \n",
              "440437   8900            1300  7.539951  110.447011  \n",
              "440438  15000            1100  0.647312  121.248049  \n",
              "440439  16600            1425  7.915987  112.452746  \n",
              "\n",
              "[440440 rows x 51 columns]"
            ]
          },
          "execution_count": 7,
          "metadata": {},
          "output_type": "execute_result"
        }
      ],
      "source": [
        "combined_df"
      ]
    },
    {
      "cell_type": "markdown",
      "metadata": {
        "id": "8mjt5Im_82PL"
      },
      "source": [
        "# Choose feature for model needs"
      ]
    },
    {
      "cell_type": "code",
      "execution_count": 8,
      "metadata": {
        "id": "vym6D-r_m-Vy"
      },
      "outputs": [],
      "source": [
        "features = ['ketinggian', 'jarak', 'elevation gain', 'temp', 'humidity', 'precipprob', 'windspeed']\n",
        "combined_df = combined_df[features]"
      ]
    },
    {
      "cell_type": "code",
      "execution_count": 9,
      "metadata": {
        "id": "v8gg1uCX_suz"
      },
      "outputs": [],
      "source": [
        "new_df = combined_df.copy()"
      ]
    },
    {
      "cell_type": "code",
      "execution_count": 10,
      "metadata": {
        "colab": {
          "base_uri": "https://localhost:8080/"
        },
        "id": "7ZsW-2pg_3AM",
        "outputId": "c4f98b62-3a83-4555-927d-beee0dd79c01"
      },
      "outputs": [
        {
          "name": "stdout",
          "output_type": "stream",
          "text": [
            "<class 'pandas.core.frame.DataFrame'>\n",
            "RangeIndex: 440440 entries, 0 to 440439\n",
            "Data columns (total 7 columns):\n",
            " #   Column          Non-Null Count   Dtype  \n",
            "---  ------          --------------   -----  \n",
            " 0   ketinggian      440440 non-null  int64  \n",
            " 1   jarak           440440 non-null  int64  \n",
            " 2   elevation gain  440440 non-null  int64  \n",
            " 3   temp            440440 non-null  float64\n",
            " 4   humidity        440440 non-null  float64\n",
            " 5   precipprob      440440 non-null  float64\n",
            " 6   windspeed       440440 non-null  float64\n",
            "dtypes: float64(4), int64(3)\n",
            "memory usage: 23.5 MB\n"
          ]
        }
      ],
      "source": [
        "# cek info\n",
        "new_df.info()"
      ]
    },
    {
      "cell_type": "markdown",
      "metadata": {
        "id": "sTlW0Fa5876C"
      },
      "source": [
        "# Preprocessing Data"
      ]
    },
    {
      "cell_type": "code",
      "execution_count": 11,
      "metadata": {
        "colab": {
          "base_uri": "https://localhost:8080/",
          "height": 303
        },
        "id": "FU-FonG18XYG",
        "outputId": "d4b53884-d3e1-4b44-ceeb-21091811e639"
      },
      "outputs": [
        {
          "data": {
            "text/plain": [
              "ketinggian        0\n",
              "jarak             0\n",
              "elevation gain    0\n",
              "temp              0\n",
              "humidity          0\n",
              "precipprob        0\n",
              "windspeed         0\n",
              "dtype: int64"
            ]
          },
          "execution_count": 11,
          "metadata": {},
          "output_type": "execute_result"
        }
      ],
      "source": [
        "new_df.isna().sum()"
      ]
    },
    {
      "cell_type": "code",
      "execution_count": 12,
      "metadata": {
        "colab": {
          "base_uri": "https://localhost:8080/"
        },
        "id": "qWTI5HXU8bax",
        "outputId": "a53723a2-abe0-44be-9567-6aa904eaf790"
      },
      "outputs": [
        {
          "data": {
            "text/plain": [
              "44348"
            ]
          },
          "execution_count": 12,
          "metadata": {},
          "output_type": "execute_result"
        }
      ],
      "source": [
        "new_df.duplicated().sum()"
      ]
    },
    {
      "cell_type": "code",
      "execution_count": 13,
      "metadata": {
        "id": "QJvO2QzA8eV0"
      },
      "outputs": [],
      "source": [
        "new_df.drop_duplicates(inplace=True)"
      ]
    },
    {
      "cell_type": "code",
      "execution_count": 14,
      "metadata": {
        "colab": {
          "base_uri": "https://localhost:8080/"
        },
        "id": "yDiLuLfY8mp-",
        "outputId": "a97794e3-fae4-41b9-9c5c-f7a52c1138e4"
      },
      "outputs": [
        {
          "data": {
            "text/plain": [
              "0"
            ]
          },
          "execution_count": 14,
          "metadata": {},
          "output_type": "execute_result"
        }
      ],
      "source": [
        "new_df.duplicated().sum()"
      ]
    },
    {
      "cell_type": "code",
      "execution_count": 15,
      "metadata": {
        "colab": {
          "base_uri": "https://localhost:8080/"
        },
        "id": "QL-d6Ukc8oKF",
        "outputId": "411efa9c-0a87-4694-e96b-c4af0eb50f39"
      },
      "outputs": [
        {
          "name": "stdout",
          "output_type": "stream",
          "text": [
            "<class 'pandas.core.frame.DataFrame'>\n",
            "Index: 396092 entries, 0 to 440439\n",
            "Data columns (total 7 columns):\n",
            " #   Column          Non-Null Count   Dtype  \n",
            "---  ------          --------------   -----  \n",
            " 0   ketinggian      396092 non-null  int64  \n",
            " 1   jarak           396092 non-null  int64  \n",
            " 2   elevation gain  396092 non-null  int64  \n",
            " 3   temp            396092 non-null  float64\n",
            " 4   humidity        396092 non-null  float64\n",
            " 5   precipprob      396092 non-null  float64\n",
            " 6   windspeed       396092 non-null  float64\n",
            "dtypes: float64(4), int64(3)\n",
            "memory usage: 24.2 MB\n"
          ]
        }
      ],
      "source": [
        "new_df.info()"
      ]
    },
    {
      "cell_type": "code",
      "execution_count": 16,
      "metadata": {
        "colab": {
          "base_uri": "https://localhost:8080/",
          "height": 423
        },
        "id": "_qo8SjRKBSzj",
        "outputId": "039f8822-6395-4771-815b-3e28a79be8e0"
      },
      "outputs": [
        {
          "data": {
            "text/html": [
              "<div>\n",
              "<style scoped>\n",
              "    .dataframe tbody tr th:only-of-type {\n",
              "        vertical-align: middle;\n",
              "    }\n",
              "\n",
              "    .dataframe tbody tr th {\n",
              "        vertical-align: top;\n",
              "    }\n",
              "\n",
              "    .dataframe thead th {\n",
              "        text-align: right;\n",
              "    }\n",
              "</style>\n",
              "<table border=\"1\" class=\"dataframe\">\n",
              "  <thead>\n",
              "    <tr style=\"text-align: right;\">\n",
              "      <th></th>\n",
              "      <th>ketinggian</th>\n",
              "      <th>jarak</th>\n",
              "      <th>elevation gain</th>\n",
              "      <th>temp</th>\n",
              "      <th>humidity</th>\n",
              "      <th>precipprob</th>\n",
              "      <th>windspeed</th>\n",
              "    </tr>\n",
              "  </thead>\n",
              "  <tbody>\n",
              "    <tr>\n",
              "      <th>0</th>\n",
              "      <td>1900</td>\n",
              "      <td>11000</td>\n",
              "      <td>1000</td>\n",
              "      <td>24.8</td>\n",
              "      <td>85.6</td>\n",
              "      <td>100.0</td>\n",
              "      <td>13.0</td>\n",
              "    </tr>\n",
              "    <tr>\n",
              "      <th>1</th>\n",
              "      <td>2087</td>\n",
              "      <td>10100</td>\n",
              "      <td>790</td>\n",
              "      <td>27.4</td>\n",
              "      <td>86.3</td>\n",
              "      <td>100.0</td>\n",
              "      <td>24.1</td>\n",
              "    </tr>\n",
              "    <tr>\n",
              "      <th>2</th>\n",
              "      <td>2590</td>\n",
              "      <td>9000</td>\n",
              "      <td>600</td>\n",
              "      <td>25.6</td>\n",
              "      <td>84.8</td>\n",
              "      <td>100.0</td>\n",
              "      <td>22.3</td>\n",
              "    </tr>\n",
              "    <tr>\n",
              "      <th>3</th>\n",
              "      <td>2365</td>\n",
              "      <td>3500</td>\n",
              "      <td>350</td>\n",
              "      <td>25.6</td>\n",
              "      <td>84.8</td>\n",
              "      <td>100.0</td>\n",
              "      <td>22.3</td>\n",
              "    </tr>\n",
              "    <tr>\n",
              "      <th>4</th>\n",
              "      <td>2096</td>\n",
              "      <td>14600</td>\n",
              "      <td>1462</td>\n",
              "      <td>27.1</td>\n",
              "      <td>86.9</td>\n",
              "      <td>100.0</td>\n",
              "      <td>24.1</td>\n",
              "    </tr>\n",
              "    <tr>\n",
              "      <th>...</th>\n",
              "      <td>...</td>\n",
              "      <td>...</td>\n",
              "      <td>...</td>\n",
              "      <td>...</td>\n",
              "      <td>...</td>\n",
              "      <td>...</td>\n",
              "      <td>...</td>\n",
              "    </tr>\n",
              "    <tr>\n",
              "      <th>440434</th>\n",
              "      <td>3035</td>\n",
              "      <td>7500</td>\n",
              "      <td>700</td>\n",
              "      <td>18.7</td>\n",
              "      <td>92.3</td>\n",
              "      <td>100.0</td>\n",
              "      <td>6.5</td>\n",
              "    </tr>\n",
              "    <tr>\n",
              "      <th>440435</th>\n",
              "      <td>2050</td>\n",
              "      <td>11000</td>\n",
              "      <td>1100</td>\n",
              "      <td>28.9</td>\n",
              "      <td>77.5</td>\n",
              "      <td>100.0</td>\n",
              "      <td>16.6</td>\n",
              "    </tr>\n",
              "    <tr>\n",
              "      <th>440436</th>\n",
              "      <td>875</td>\n",
              "      <td>13200</td>\n",
              "      <td>735</td>\n",
              "      <td>27.7</td>\n",
              "      <td>71.2</td>\n",
              "      <td>0.0</td>\n",
              "      <td>8.3</td>\n",
              "    </tr>\n",
              "    <tr>\n",
              "      <th>440437</th>\n",
              "      <td>2897</td>\n",
              "      <td>8900</td>\n",
              "      <td>1300</td>\n",
              "      <td>24.9</td>\n",
              "      <td>86.6</td>\n",
              "      <td>100.0</td>\n",
              "      <td>18.0</td>\n",
              "    </tr>\n",
              "    <tr>\n",
              "      <th>440439</th>\n",
              "      <td>3156</td>\n",
              "      <td>16600</td>\n",
              "      <td>1425</td>\n",
              "      <td>21.7</td>\n",
              "      <td>91.9</td>\n",
              "      <td>100.0</td>\n",
              "      <td>6.1</td>\n",
              "    </tr>\n",
              "  </tbody>\n",
              "</table>\n",
              "<p>396092 rows × 7 columns</p>\n",
              "</div>"
            ],
            "text/plain": [
              "        ketinggian  jarak  elevation gain  temp  humidity  precipprob  \\\n",
              "0             1900  11000            1000  24.8      85.6       100.0   \n",
              "1             2087  10100             790  27.4      86.3       100.0   \n",
              "2             2590   9000             600  25.6      84.8       100.0   \n",
              "3             2365   3500             350  25.6      84.8       100.0   \n",
              "4             2096  14600            1462  27.1      86.9       100.0   \n",
              "...            ...    ...             ...   ...       ...         ...   \n",
              "440434        3035   7500             700  18.7      92.3       100.0   \n",
              "440435        2050  11000            1100  28.9      77.5       100.0   \n",
              "440436         875  13200             735  27.7      71.2         0.0   \n",
              "440437        2897   8900            1300  24.9      86.6       100.0   \n",
              "440439        3156  16600            1425  21.7      91.9       100.0   \n",
              "\n",
              "        windspeed  \n",
              "0            13.0  \n",
              "1            24.1  \n",
              "2            22.3  \n",
              "3            22.3  \n",
              "4            24.1  \n",
              "...           ...  \n",
              "440434        6.5  \n",
              "440435       16.6  \n",
              "440436        8.3  \n",
              "440437       18.0  \n",
              "440439        6.1  \n",
              "\n",
              "[396092 rows x 7 columns]"
            ]
          },
          "execution_count": 16,
          "metadata": {},
          "output_type": "execute_result"
        }
      ],
      "source": [
        "new_df"
      ]
    },
    {
      "cell_type": "code",
      "execution_count": 17,
      "metadata": {
        "id": "bO4nQLJ0BUcE"
      },
      "outputs": [],
      "source": [
        "# Reset index\n",
        "new_df.reset_index(drop=True, inplace=True)"
      ]
    },
    {
      "cell_type": "code",
      "execution_count": 18,
      "metadata": {
        "id": "zMPsMtjmnpQe"
      },
      "outputs": [],
      "source": [
        "# Scale\n",
        "weather_features = ['temp', 'humidity', 'precipprob', 'windspeed']\n",
        "scaler = MinMaxScaler()\n",
        "scaled = scaler.fit_transform(new_df[weather_features])\n",
        "scaled_df = pd.DataFrame(scaled, columns=[f\"{col}_scaled\" for col in weather_features])\n",
        "\n",
        "# Gabungkan ke combined_df\n",
        "new_df = pd.concat([new_df, scaled_df], axis=1)"
      ]
    },
    {
      "cell_type": "code",
      "execution_count": 19,
      "metadata": {
        "colab": {
          "base_uri": "https://localhost:8080/",
          "height": 423
        },
        "id": "EK1QP8xCucGB",
        "outputId": "6aa99492-4ed8-4787-e83f-9642c580e9d9"
      },
      "outputs": [
        {
          "data": {
            "text/html": [
              "<div>\n",
              "<style scoped>\n",
              "    .dataframe tbody tr th:only-of-type {\n",
              "        vertical-align: middle;\n",
              "    }\n",
              "\n",
              "    .dataframe tbody tr th {\n",
              "        vertical-align: top;\n",
              "    }\n",
              "\n",
              "    .dataframe thead th {\n",
              "        text-align: right;\n",
              "    }\n",
              "</style>\n",
              "<table border=\"1\" class=\"dataframe\">\n",
              "  <thead>\n",
              "    <tr style=\"text-align: right;\">\n",
              "      <th></th>\n",
              "      <th>ketinggian</th>\n",
              "      <th>jarak</th>\n",
              "      <th>elevation gain</th>\n",
              "      <th>temp</th>\n",
              "      <th>humidity</th>\n",
              "      <th>precipprob</th>\n",
              "      <th>windspeed</th>\n",
              "      <th>temp_scaled</th>\n",
              "      <th>humidity_scaled</th>\n",
              "      <th>precipprob_scaled</th>\n",
              "      <th>windspeed_scaled</th>\n",
              "    </tr>\n",
              "  </thead>\n",
              "  <tbody>\n",
              "    <tr>\n",
              "      <th>0</th>\n",
              "      <td>1900</td>\n",
              "      <td>11000</td>\n",
              "      <td>1000</td>\n",
              "      <td>24.8</td>\n",
              "      <td>85.6</td>\n",
              "      <td>100.0</td>\n",
              "      <td>13.0</td>\n",
              "      <td>0.636364</td>\n",
              "      <td>0.823892</td>\n",
              "      <td>1.0</td>\n",
              "      <td>0.057958</td>\n",
              "    </tr>\n",
              "    <tr>\n",
              "      <th>1</th>\n",
              "      <td>2087</td>\n",
              "      <td>10100</td>\n",
              "      <td>790</td>\n",
              "      <td>27.4</td>\n",
              "      <td>86.3</td>\n",
              "      <td>100.0</td>\n",
              "      <td>24.1</td>\n",
              "      <td>0.696970</td>\n",
              "      <td>0.832512</td>\n",
              "      <td>1.0</td>\n",
              "      <td>0.107445</td>\n",
              "    </tr>\n",
              "    <tr>\n",
              "      <th>2</th>\n",
              "      <td>2590</td>\n",
              "      <td>9000</td>\n",
              "      <td>600</td>\n",
              "      <td>25.6</td>\n",
              "      <td>84.8</td>\n",
              "      <td>100.0</td>\n",
              "      <td>22.3</td>\n",
              "      <td>0.655012</td>\n",
              "      <td>0.814039</td>\n",
              "      <td>1.0</td>\n",
              "      <td>0.099420</td>\n",
              "    </tr>\n",
              "    <tr>\n",
              "      <th>3</th>\n",
              "      <td>2365</td>\n",
              "      <td>3500</td>\n",
              "      <td>350</td>\n",
              "      <td>25.6</td>\n",
              "      <td>84.8</td>\n",
              "      <td>100.0</td>\n",
              "      <td>22.3</td>\n",
              "      <td>0.655012</td>\n",
              "      <td>0.814039</td>\n",
              "      <td>1.0</td>\n",
              "      <td>0.099420</td>\n",
              "    </tr>\n",
              "    <tr>\n",
              "      <th>4</th>\n",
              "      <td>2096</td>\n",
              "      <td>14600</td>\n",
              "      <td>1462</td>\n",
              "      <td>27.1</td>\n",
              "      <td>86.9</td>\n",
              "      <td>100.0</td>\n",
              "      <td>24.1</td>\n",
              "      <td>0.689977</td>\n",
              "      <td>0.839901</td>\n",
              "      <td>1.0</td>\n",
              "      <td>0.107445</td>\n",
              "    </tr>\n",
              "    <tr>\n",
              "      <th>...</th>\n",
              "      <td>...</td>\n",
              "      <td>...</td>\n",
              "      <td>...</td>\n",
              "      <td>...</td>\n",
              "      <td>...</td>\n",
              "      <td>...</td>\n",
              "      <td>...</td>\n",
              "      <td>...</td>\n",
              "      <td>...</td>\n",
              "      <td>...</td>\n",
              "      <td>...</td>\n",
              "    </tr>\n",
              "    <tr>\n",
              "      <th>396087</th>\n",
              "      <td>3035</td>\n",
              "      <td>7500</td>\n",
              "      <td>700</td>\n",
              "      <td>18.7</td>\n",
              "      <td>92.3</td>\n",
              "      <td>100.0</td>\n",
              "      <td>6.5</td>\n",
              "      <td>0.494172</td>\n",
              "      <td>0.906404</td>\n",
              "      <td>1.0</td>\n",
              "      <td>0.028979</td>\n",
              "    </tr>\n",
              "    <tr>\n",
              "      <th>396088</th>\n",
              "      <td>2050</td>\n",
              "      <td>11000</td>\n",
              "      <td>1100</td>\n",
              "      <td>28.9</td>\n",
              "      <td>77.5</td>\n",
              "      <td>100.0</td>\n",
              "      <td>16.6</td>\n",
              "      <td>0.731935</td>\n",
              "      <td>0.724138</td>\n",
              "      <td>1.0</td>\n",
              "      <td>0.074008</td>\n",
              "    </tr>\n",
              "    <tr>\n",
              "      <th>396089</th>\n",
              "      <td>875</td>\n",
              "      <td>13200</td>\n",
              "      <td>735</td>\n",
              "      <td>27.7</td>\n",
              "      <td>71.2</td>\n",
              "      <td>0.0</td>\n",
              "      <td>8.3</td>\n",
              "      <td>0.703963</td>\n",
              "      <td>0.646552</td>\n",
              "      <td>0.0</td>\n",
              "      <td>0.037004</td>\n",
              "    </tr>\n",
              "    <tr>\n",
              "      <th>396090</th>\n",
              "      <td>2897</td>\n",
              "      <td>8900</td>\n",
              "      <td>1300</td>\n",
              "      <td>24.9</td>\n",
              "      <td>86.6</td>\n",
              "      <td>100.0</td>\n",
              "      <td>18.0</td>\n",
              "      <td>0.638695</td>\n",
              "      <td>0.836207</td>\n",
              "      <td>1.0</td>\n",
              "      <td>0.080250</td>\n",
              "    </tr>\n",
              "    <tr>\n",
              "      <th>396091</th>\n",
              "      <td>3156</td>\n",
              "      <td>16600</td>\n",
              "      <td>1425</td>\n",
              "      <td>21.7</td>\n",
              "      <td>91.9</td>\n",
              "      <td>100.0</td>\n",
              "      <td>6.1</td>\n",
              "      <td>0.564103</td>\n",
              "      <td>0.901478</td>\n",
              "      <td>1.0</td>\n",
              "      <td>0.027196</td>\n",
              "    </tr>\n",
              "  </tbody>\n",
              "</table>\n",
              "<p>396092 rows × 11 columns</p>\n",
              "</div>"
            ],
            "text/plain": [
              "        ketinggian  jarak  elevation gain  temp  humidity  precipprob  \\\n",
              "0             1900  11000            1000  24.8      85.6       100.0   \n",
              "1             2087  10100             790  27.4      86.3       100.0   \n",
              "2             2590   9000             600  25.6      84.8       100.0   \n",
              "3             2365   3500             350  25.6      84.8       100.0   \n",
              "4             2096  14600            1462  27.1      86.9       100.0   \n",
              "...            ...    ...             ...   ...       ...         ...   \n",
              "396087        3035   7500             700  18.7      92.3       100.0   \n",
              "396088        2050  11000            1100  28.9      77.5       100.0   \n",
              "396089         875  13200             735  27.7      71.2         0.0   \n",
              "396090        2897   8900            1300  24.9      86.6       100.0   \n",
              "396091        3156  16600            1425  21.7      91.9       100.0   \n",
              "\n",
              "        windspeed  temp_scaled  humidity_scaled  precipprob_scaled  \\\n",
              "0            13.0     0.636364         0.823892                1.0   \n",
              "1            24.1     0.696970         0.832512                1.0   \n",
              "2            22.3     0.655012         0.814039                1.0   \n",
              "3            22.3     0.655012         0.814039                1.0   \n",
              "4            24.1     0.689977         0.839901                1.0   \n",
              "...           ...          ...              ...                ...   \n",
              "396087        6.5     0.494172         0.906404                1.0   \n",
              "396088       16.6     0.731935         0.724138                1.0   \n",
              "396089        8.3     0.703963         0.646552                0.0   \n",
              "396090       18.0     0.638695         0.836207                1.0   \n",
              "396091        6.1     0.564103         0.901478                1.0   \n",
              "\n",
              "        windspeed_scaled  \n",
              "0               0.057958  \n",
              "1               0.107445  \n",
              "2               0.099420  \n",
              "3               0.099420  \n",
              "4               0.107445  \n",
              "...                  ...  \n",
              "396087          0.028979  \n",
              "396088          0.074008  \n",
              "396089          0.037004  \n",
              "396090          0.080250  \n",
              "396091          0.027196  \n",
              "\n",
              "[396092 rows x 11 columns]"
            ]
          },
          "execution_count": 19,
          "metadata": {},
          "output_type": "execute_result"
        }
      ],
      "source": [
        "new_df"
      ]
    },
    {
      "cell_type": "markdown",
      "metadata": {
        "id": "MRkOPt8E9eD8"
      },
      "source": [
        "# Create dummy target"
      ]
    },
    {
      "cell_type": "code",
      "execution_count": 21,
      "metadata": {
        "id": "Mu2pAk_DKVgp"
      },
      "outputs": [],
      "source": [
        "def base_difficulty(row):\n",
        "    elevation_gain_ft = row['elevation gain'] * 3.28084  # konversi meter ke feet\n",
        "    distance_mi = row['jarak'] / 1609.34  # konversi meter ke mile\n",
        "    raw_score = math.sqrt(elevation_gain_ft * 2 * distance_mi) #shenandoah's formula\n",
        "    return raw_score ** 0.5\n",
        "\n",
        "def full_difficulty_score(row):\n",
        "    base = base_difficulty(row)\n",
        "    weather_penalty = (\n",
        "        0.25 * row['precipprob_scaled'] +\n",
        "        0.25 * row['windspeed_scaled'] +\n",
        "        0.25 * row['temp_scaled'] +\n",
        "        0.25 * row['humidity_scaled']\n",
        "    )\n",
        "    SCALE_FACTOR = 0.25\n",
        "    final_score = base * weather_penalty * SCALE_FACTOR\n",
        "    return final_score\n",
        "\n",
        "# Normalize difficulty to 1–10 range\n",
        "def normalize_difficulty(scores):\n",
        "    min_score = scores.min()\n",
        "    max_score = scores.max()\n",
        "    return 1 + 9 * ((scores - min_score) / (max_score - min_score))"
      ]
    },
    {
      "cell_type": "code",
      "execution_count": 22,
      "metadata": {
        "id": "C3lwHLSGUzd_"
      },
      "outputs": [],
      "source": [
        "new_df['base_difficulty_score'] = new_df.apply(base_difficulty, axis=1)\n",
        "new_df['full_difficulty_score'] = new_df.apply(full_difficulty_score, axis=1)\n",
        "new_df['difficulty_score'] = normalize_difficulty(new_df['full_difficulty_score']) # normalized score"
      ]
    },
    {
      "cell_type": "code",
      "execution_count": 23,
      "metadata": {
        "id": "eAr4jAgaU1pa"
      },
      "outputs": [],
      "source": [
        "def estimate_time(row):\n",
        "    base_time = (row['jarak'] / 5000) + (row['elevation gain'] / 600) # naismith rule\n",
        "    difficulty_factor = row['difficulty_score'] / 10 # scale 0–1\n",
        "    return base_time * (1 + difficulty_factor)\n",
        "\n",
        "new_df['estimated_time'] = new_df.apply(estimate_time, axis=1)"
      ]
    },
    {
      "cell_type": "code",
      "execution_count": 24,
      "metadata": {
        "colab": {
          "base_uri": "https://localhost:8080/",
          "height": 472
        },
        "id": "LXDYNVF64LaZ",
        "outputId": "2ef1c754-3a84-4bd8-8d8f-5e7cc9293bee"
      },
      "outputs": [
        {
          "data": {
            "image/png": "[encoded data removed]",
            "text/plain": [
              "<Figure size 640x480 with 1 Axes>"
            ]
          },
          "metadata": {},
          "output_type": "display_data"
        }
      ],
      "source": [
        "sns.histplot(new_df['difficulty_score'], kde=True)\n",
        "plt.title(\"Distribution of Difficulty Score\")\n",
        "plt.xlabel(\"Difficulty Score\")\n",
        "plt.ylabel(\"Frequency\")\n",
        "plt.show()"
      ]
    },
    {
      "cell_type": "code",
      "execution_count": 26,
      "metadata": {},
      "outputs": [
        {
          "data": {
            "image/png": "[encoded data removed]",
            "text/plain": [
              "<Figure size 640x480 with 1 Axes>"
            ]
          },
          "metadata": {},
          "output_type": "display_data"
        }
      ],
      "source": [
        "sns.histplot(new_df['estimated_time'], kde=True)\n",
        "plt.title(\"Distribution of Estimated Time\")\n",
        "plt.xlabel(\"Estimated Time (Hours)\")\n",
        "plt.ylabel(\"Frequency\")\n",
        "plt.show()"
      ]
    },
    {
      "cell_type": "code",
      "execution_count": 27,
      "metadata": {
        "id": "P5u7D7mnvWeL"
      },
      "outputs": [],
      "source": [
        "new_df = new_df.drop(columns=['temp_scaled', 'precipprob_scaled', 'windspeed_scaled', 'humidity_scaled', 'base_difficulty_score', 'full_difficulty_score'])"
      ]
    },
    {
      "cell_type": "code",
      "execution_count": 28,
      "metadata": {
        "id": "g23vyWh_Pvkd"
      },
      "outputs": [],
      "source": [
        "new_df.rename(columns={'elevation gain': 'elevation_gain'}, inplace=True)"
      ]
    },
    {
      "cell_type": "code",
      "execution_count": 29,
      "metadata": {
        "colab": {
          "base_uri": "https://localhost:8080/"
        },
        "id": "V0d8DtITpzOo",
        "outputId": "7d3765b9-b27f-4628-be3c-bd6e3962ec2a"
      },
      "outputs": [
        {
          "name": "stdout",
          "output_type": "stream",
          "text": [
            "<class 'pandas.core.frame.DataFrame'>\n",
            "RangeIndex: 396092 entries, 0 to 396091\n",
            "Data columns (total 9 columns):\n",
            " #   Column            Non-Null Count   Dtype  \n",
            "---  ------            --------------   -----  \n",
            " 0   ketinggian        396092 non-null  int64  \n",
            " 1   jarak             396092 non-null  int64  \n",
            " 2   elevation_gain    396092 non-null  int64  \n",
            " 3   temp              396092 non-null  float64\n",
            " 4   humidity          396092 non-null  float64\n",
            " 5   precipprob        396092 non-null  float64\n",
            " 6   windspeed         396092 non-null  float64\n",
            " 7   difficulty_score  396092 non-null  float64\n",
            " 8   estimated_time    396092 non-null  float64\n",
            "dtypes: float64(6), int64(3)\n",
            "memory usage: 27.2 MB\n"
          ]
        }
      ],
      "source": [
        "new_df.info()"
      ]
    },
    {
      "cell_type": "code",
      "execution_count": 30,
      "metadata": {
        "colab": {
          "base_uri": "https://localhost:8080/"
        },
        "id": "aqiOEZLnvbRn",
        "outputId": "67faf901-49b7-417d-b5ec-0ab3034b2db0"
      },
      "outputs": [
        {
          "name": "stdout",
          "output_type": "stream",
          "text": [
            "[DONE] File saved to 'model2_dataset.csv'\n"
          ]
        }
      ],
      "source": [
        "new_df.to_csv('model2_dataset.csv', index=False)\n",
        "print(\"[DONE] File saved to 'model2_dataset.csv'\")"
      ]
    }
  ],
  "metadata": {
    "colab": {
      "provenance": []
    },
    "kernelspec": {
      "display_name": "main-ds",
      "language": "python",
      "name": "python3"
    },
    "language_info": {
      "codemirror_mode": {
        "name": "ipython",
        "version": 3
      },
      "file_extension": ".py",
      "mimetype": "text/x-python",
      "name": "python",
      "nbconvert_exporter": "python",
      "pygments_lexer": "ipython3",
      "version": "3.9.18"
    }
  },
  "nbformat": 4,
  "nbformat_minor": 0
}
