{
 "cells": [
  {
   "cell_type": "code",
   "execution_count": 4,
   "id": "611fd014",
   "metadata": {},
   "outputs": [],
   "source": [
    "import pandas as pd\n",
    "import re"
   ]
  },
  {
   "cell_type": "code",
   "execution_count": 5,
   "id": "a0e9f0da",
   "metadata": {},
   "outputs": [],
   "source": [
    "# Load data\n",
    "df = pd.read_csv(\"gunung_indonesia.csv\")"
   ]
  },
  {
   "cell_type": "code",
   "execution_count": 6,
   "id": "d290917f",
   "metadata": {},
   "outputs": [
    {
     "name": "stdout",
     "output_type": "stream",
     "text": [
      "<class 'pandas.core.frame.DataFrame'>\n",
      "RangeIndex: 207 entries, 0 to 206\n",
      "Data columns (total 12 columns):\n",
      " #   Column              Non-Null Count  Dtype  \n",
      "---  ------              --------------  -----  \n",
      " 0   Nama                207 non-null    object \n",
      " 1   Provinsi            207 non-null    object \n",
      " 2   Kabupaten           207 non-null    object \n",
      " 3   Kecamatan           207 non-null    object \n",
      " 4   Koordinat           207 non-null    object \n",
      " 5   Ketinggian (dpl)    207 non-null    int64  \n",
      " 6   Jenis Gunung        207 non-null    object \n",
      " 7   Status              207 non-null    object \n",
      " 8   Akses               207 non-null    object \n",
      " 9   Jarak (km)          207 non-null    float64\n",
      " 10  Jarak (m)           207 non-null    int64  \n",
      " 11  Elevation gain (m)  207 non-null    int64  \n",
      "dtypes: float64(1), int64(3), object(8)\n",
      "memory usage: 19.5+ KB\n"
     ]
    }
   ],
   "source": [
    "df.info()"
   ]
  },
  {
   "cell_type": "code",
   "execution_count": 7,
   "id": "25c70291",
   "metadata": {},
   "outputs": [],
   "source": [
    "# There is 2 column for jarak, drop km and keep m (for data consistency between column)\n",
    "df.drop(columns='Jarak (km)', inplace=True)"
   ]
  },
  {
   "cell_type": "code",
   "execution_count": 8,
   "id": "7753de9a",
   "metadata": {},
   "outputs": [],
   "source": [
    "def clean_column(col):\n",
    "    col = re.sub(r\"\\s*\\([^)]*\\)\", \"\", col)  # remove (m), (dpl), etc\n",
    "    col = col.strip().lower()  # lowercase the column name\n",
    "    return col\n",
    "\n",
    "df.columns = [clean_column(col) for col in df.columns]"
   ]
  },
  {
   "cell_type": "code",
   "execution_count": 11,
   "id": "27b5c6d5",
   "metadata": {},
   "outputs": [],
   "source": [
    "# Parse coordinate into latitude and longitude\n",
    "def parse_koordinat(k):\n",
    "    match = re.match(r\"([\\d\\.\\-]+)\\s*(LU|LS),\\s*([\\d\\.\\-]+)\\s*(BT|BB)\", k)\n",
    "    if not match:\n",
    "        return pd.Series([None, None])\n",
    "    lat, lat_dir, lon, lon_dir = match.groups()\n",
    "    lat = float(lat) * (1 if lat_dir == \"LU\" else -1)\n",
    "    lon = float(lon) * (1 if lon_dir == \"BT\" else -1)\n",
    "    return pd.Series([lat, lon])\n",
    "\n",
    "df[['latitude', 'longitude']] = df['koordinat'].apply(parse_koordinat)\n",
    "df.drop(columns='koordinat', inplace=True)"
   ]
  },
  {
   "cell_type": "code",
   "execution_count": 12,
   "id": "0306c656",
   "metadata": {},
   "outputs": [
    {
     "name": "stdout",
     "output_type": "stream",
     "text": [
      "<class 'pandas.core.frame.DataFrame'>\n",
      "RangeIndex: 207 entries, 0 to 206\n",
      "Data columns (total 12 columns):\n",
      " #   Column          Non-Null Count  Dtype  \n",
      "---  ------          --------------  -----  \n",
      " 0   nama            207 non-null    object \n",
      " 1   provinsi        207 non-null    object \n",
      " 2   kabupaten       207 non-null    object \n",
      " 3   kecamatan       207 non-null    object \n",
      " 4   ketinggian      207 non-null    int64  \n",
      " 5   jenis gunung    207 non-null    object \n",
      " 6   status          207 non-null    object \n",
      " 7   akses           207 non-null    object \n",
      " 8   jarak           207 non-null    int64  \n",
      " 9   elevation gain  207 non-null    int64  \n",
      " 10  latitude        207 non-null    float64\n",
      " 11  longitude       207 non-null    float64\n",
      "dtypes: float64(2), int64(3), object(7)\n",
      "memory usage: 19.5+ KB\n"
     ]
    }
   ],
   "source": [
    "df.info()"
   ]
  },
  {
   "cell_type": "code",
   "execution_count": 13,
   "id": "44e73947",
   "metadata": {},
   "outputs": [],
   "source": [
    "# Lowercase the values for all columns\n",
    "df = df.apply(lambda x: x.str.lower() if x.dtype == \"object\" else x)"
   ]
  },
  {
   "cell_type": "code",
   "execution_count": 15,
   "id": "f5060939",
   "metadata": {},
   "outputs": [
    {
     "data": {
      "text/html": [
       "<div>\n",
       "<style scoped>\n",
       "    .dataframe tbody tr th:only-of-type {\n",
       "        vertical-align: middle;\n",
       "    }\n",
       "\n",
       "    .dataframe tbody tr th {\n",
       "        vertical-align: top;\n",
       "    }\n",
       "\n",
       "    .dataframe thead th {\n",
       "        text-align: right;\n",
       "    }\n",
       "</style>\n",
       "<table border=\"1\" class=\"dataframe\">\n",
       "  <thead>\n",
       "    <tr style=\"text-align: right;\">\n",
       "      <th></th>\n",
       "      <th>nama</th>\n",
       "      <th>provinsi</th>\n",
       "      <th>kabupaten</th>\n",
       "      <th>kecamatan</th>\n",
       "      <th>ketinggian</th>\n",
       "      <th>jenis gunung</th>\n",
       "      <th>status</th>\n",
       "      <th>akses</th>\n",
       "      <th>jarak</th>\n",
       "      <th>elevation gain</th>\n",
       "      <th>latitude</th>\n",
       "      <th>longitude</th>\n",
       "    </tr>\n",
       "  </thead>\n",
       "  <tbody>\n",
       "    <tr>\n",
       "      <th>0</th>\n",
       "      <td>gunung bandahara</td>\n",
       "      <td>nanggroe aceh darussalam</td>\n",
       "      <td>gayo lues</td>\n",
       "      <td>ketambe</td>\n",
       "      <td>3030</td>\n",
       "      <td>stratovolcano</td>\n",
       "      <td>tidak aktif</td>\n",
       "      <td>buka</td>\n",
       "      <td>23500</td>\n",
       "      <td>1900</td>\n",
       "      <td>3.749940</td>\n",
       "      <td>97.781620</td>\n",
       "    </tr>\n",
       "    <tr>\n",
       "      <th>1</th>\n",
       "      <td>gunung kemiri</td>\n",
       "      <td>nanggroe aceh darussalam</td>\n",
       "      <td>gayo lues</td>\n",
       "      <td>puteri betung</td>\n",
       "      <td>3315</td>\n",
       "      <td>non volcanic</td>\n",
       "      <td>tidak aktif</td>\n",
       "      <td>buka</td>\n",
       "      <td>20000</td>\n",
       "      <td>2100</td>\n",
       "      <td>3.762063</td>\n",
       "      <td>97.483192</td>\n",
       "    </tr>\n",
       "    <tr>\n",
       "      <th>2</th>\n",
       "      <td>gunung kurik</td>\n",
       "      <td>nanggroe aceh darussalam</td>\n",
       "      <td>aceh timur</td>\n",
       "      <td>serba jadi</td>\n",
       "      <td>3085</td>\n",
       "      <td>non volcanic</td>\n",
       "      <td>tidak aktif</td>\n",
       "      <td>buka</td>\n",
       "      <td>16000</td>\n",
       "      <td>1300</td>\n",
       "      <td>4.252266</td>\n",
       "      <td>97.419957</td>\n",
       "    </tr>\n",
       "    <tr>\n",
       "      <th>3</th>\n",
       "      <td>gunung mugajah</td>\n",
       "      <td>nanggroe aceh darussalam</td>\n",
       "      <td>aceh timur</td>\n",
       "      <td>serba jadi</td>\n",
       "      <td>2055</td>\n",
       "      <td>non volcanic</td>\n",
       "      <td>tidak aktif</td>\n",
       "      <td>buka</td>\n",
       "      <td>17500</td>\n",
       "      <td>1400</td>\n",
       "      <td>4.252522</td>\n",
       "      <td>97.420833</td>\n",
       "    </tr>\n",
       "    <tr>\n",
       "      <th>4</th>\n",
       "      <td>gunung burni telong</td>\n",
       "      <td>nanggroe aceh darussalam</td>\n",
       "      <td>bener meriah</td>\n",
       "      <td>timang gajah</td>\n",
       "      <td>2624</td>\n",
       "      <td>stratovolcano</td>\n",
       "      <td>aktif</td>\n",
       "      <td>buka</td>\n",
       "      <td>5100</td>\n",
       "      <td>989</td>\n",
       "      <td>4.817674</td>\n",
       "      <td>96.818949</td>\n",
       "    </tr>\n",
       "  </tbody>\n",
       "</table>\n",
       "</div>"
      ],
      "text/plain": [
       "                  nama                  provinsi     kabupaten      kecamatan  \\\n",
       "0     gunung bandahara  nanggroe aceh darussalam     gayo lues        ketambe   \n",
       "1        gunung kemiri  nanggroe aceh darussalam     gayo lues  puteri betung   \n",
       "2         gunung kurik  nanggroe aceh darussalam    aceh timur     serba jadi   \n",
       "3       gunung mugajah  nanggroe aceh darussalam    aceh timur     serba jadi   \n",
       "4  gunung burni telong  nanggroe aceh darussalam  bener meriah   timang gajah   \n",
       "\n",
       "   ketinggian   jenis gunung       status akses  jarak  elevation gain  \\\n",
       "0        3030  stratovolcano  tidak aktif  buka  23500            1900   \n",
       "1        3315   non volcanic  tidak aktif  buka  20000            2100   \n",
       "2        3085   non volcanic  tidak aktif  buka  16000            1300   \n",
       "3        2055   non volcanic  tidak aktif  buka  17500            1400   \n",
       "4        2624  stratovolcano        aktif  buka   5100             989   \n",
       "\n",
       "   latitude  longitude  \n",
       "0  3.749940  97.781620  \n",
       "1  3.762063  97.483192  \n",
       "2  4.252266  97.419957  \n",
       "3  4.252522  97.420833  \n",
       "4  4.817674  96.818949  "
      ]
     },
     "execution_count": 15,
     "metadata": {},
     "output_type": "execute_result"
    }
   ],
   "source": [
    "df.head()"
   ]
  },
  {
   "cell_type": "code",
   "execution_count": null,
   "id": "ea4fc019",
   "metadata": {},
   "outputs": [
    {
     "name": "stdout",
     "output_type": "stream",
     "text": [
      "[DONE] File saved to 'gunung_indonesia.csv'\n"
     ]
    }
   ],
   "source": [
    "# Save file\n",
    "df.to_csv('gunung_indonesia.csv', index=False)\n",
    "print(\"[DONE] File saved to 'gunung_indonesia.csv'\")"
   ]
  }
 ],
 "metadata": {
  "kernelspec": {
   "display_name": "main-ds",
   "language": "python",
   "name": "python3"
  },
  "language_info": {
   "codemirror_mode": {
    "name": "ipython",
    "version": 3
   },
   "file_extension": ".py",
   "mimetype": "text/x-python",
   "name": "python",
   "nbconvert_exporter": "python",
   "pygments_lexer": "ipython3",
   "version": "3.9.18"
  }
 },
 "nbformat": 4,
 "nbformat_minor": 5
}
