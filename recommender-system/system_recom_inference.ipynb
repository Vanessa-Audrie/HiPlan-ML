{
 "cells": [
  {
   "cell_type": "code",
   "execution_count": 2,
   "id": "a1650dc0",
   "metadata": {},
   "outputs": [],
   "source": [
    "import joblib\n",
    "import pandas as pd\n",
    "import scipy\n",
    "from sklearn.metrics.pairwise import cosine_similarity"
   ]
  },
  {
   "cell_type": "code",
   "execution_count": 3,
   "id": "36105c7f",
   "metadata": {},
   "outputs": [],
   "source": [
    "vectorizer = joblib.load(\"model/vectorizer.pkl\")\n",
    "scaler = joblib.load(\"model/scaler.pkl\")\n",
    "combined_recom_features = joblib.load(\"model/combined_features.pkl\")\n",
    "gunung = joblib.load(\"model/gunung_data.pkl\")"
   ]
  },
  {
   "cell_type": "code",
   "execution_count": 49,
   "id": "4f6121dc",
   "metadata": {},
   "outputs": [],
   "source": [
    "def rekomendasikan_gunung(input_lokasi, input_ketinggian, top_n=5, similarity_threshold=0.3):\n",
    "    # Validasi\n",
    "    if not isinstance(input_lokasi, str):\n",
    "        raise ValueError(\"Input lokasi harus berupa teks.\")\n",
    "    if input_lokasi.isnumeric():\n",
    "        raise ValueError(\"Input lokasi tidak boleh hanya berisi angka.\")\n",
    "    if not isinstance(input_ketinggian, (int, float)):\n",
    "        raise ValueError(\"Input ketinggian harus berupa angka.\")\n",
    "\n",
    "    # Transform input\n",
    "    input_lokasi_vec = vectorizer.transform([input_lokasi])\n",
    "    input_ketinggian_scaled = scaler.transform(pd.DataFrame([[input_ketinggian]], columns=[\"Ketinggian (dpl)\"]))\n",
    "    input_combined = scipy.sparse.hstack([input_lokasi_vec, input_ketinggian_scaled])\n",
    "\n",
    "    # Cosine similarity\n",
    "    similarity_scores = cosine_similarity(input_combined, combined_recom_features).flatten()\n",
    "\n",
    "    # Filter gunung yang aksesnya buka\n",
    "    filter_akses = gunung['Akses'] == 'Buka'\n",
    "    qualified_indices = [\n",
    "        i for i, score in enumerate(similarity_scores)\n",
    "        if score >= similarity_threshold and filter_akses[i]\n",
    "    ]\n",
    "\n",
    "    final_indices = sorted(qualified_indices, key=lambda i: similarity_scores[i], reverse=True)[:top_n]\n",
    "    hasil = gunung.iloc[final_indices][['Nama', 'Provinsi', 'Ketinggian (dpl)', 'Akses']]\n",
    "    \n",
    "    return hasil.reset_index(drop=True)"
   ]
  },
  {
   "cell_type": "code",
   "execution_count": 50,
   "id": "c3808bc4",
   "metadata": {},
   "outputs": [
    {
     "name": "stdout",
     "output_type": "stream",
     "text": [
      "\n",
      "Data input:\n",
      "Lokasi: jambi\n",
      "Ketinggian (dpl): 2000.0\n"
     ]
    }
   ],
   "source": [
    "def get_input_dict():\n",
    "    lokasi = input(\"Masukkan lokasi: \")\n",
    "    ketinggian = float(input(\"Masukkan ketinggian ideal (dalam mdpl): \"))\n",
    "    return {\n",
    "        \"Lokasi\": lokasi,\n",
    "        \"Ketinggian (dpl)\": ketinggian\n",
    "    }\n",
    "\n",
    "new_input = pd.DataFrame([get_input_dict()])\n",
    "\n",
    "print(\"\\nData input:\")\n",
    "for key, value in new_input.iloc[0].items():\n",
    "    print(f\"{key}: {value}\")\n",
    "\n",
    "lokasi_user = new_input[\"Lokasi\"].values[0]\n",
    "ketinggian_user = new_input[\"Ketinggian (dpl)\"].values[0]"
   ]
  },
  {
   "cell_type": "code",
   "execution_count": 51,
   "id": "52f5c9c6",
   "metadata": {},
   "outputs": [
    {
     "name": "stdout",
     "output_type": "stream",
     "text": [
      "\n",
      "Rekomendasi gunung:\n",
      "                     Nama Provinsi  Ketinggian (dpl) Akses\n",
      "0  Gunung Sumbing (Jambi)    Jambi              2507  Buka\n",
      "1          Gunung Masurai    Jambi              2980  Buka\n",
      "2          Gunung Kerinci    Jambi              3805  Buka\n",
      "3        Gunung Hulu Nilo    Jambi              2424  Buka\n",
      "4           Gunung Kunyit    Jambi              2151  Buka\n"
     ]
    }
   ],
   "source": [
    "rekomendasi = rekomendasikan_gunung(lokasi_user, ketinggian_user)\n",
    "\n",
    "if rekomendasi.empty:\n",
    "    print(\"\\nTidak ada rekomendasi yang ditemukan.\")\n",
    "else:\n",
    "    print(\"\\nRekomendasi gunung:\")\n",
    "    print(rekomendasi)\n"
   ]
  }
 ],
 "metadata": {
  "kernelspec": {
   "display_name": "Python 3",
   "language": "python",
   "name": "python3"
  },
  "language_info": {
   "codemirror_mode": {
    "name": "ipython",
    "version": 3
   },
   "file_extension": ".py",
   "mimetype": "text/x-python",
   "name": "python",
   "nbconvert_exporter": "python",
   "pygments_lexer": "ipython3",
   "version": "3.13.2"
  }
 },
 "nbformat": 4,
 "nbformat_minor": 5
}
