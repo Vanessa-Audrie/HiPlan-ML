{
 "cells": [
  {
   "cell_type": "markdown",
   "id": "ab80377a",
   "metadata": {},
   "source": [
    "## Inference"
   ]
  },
  {
   "cell_type": "code",
   "execution_count": 1,
   "id": "71fb7b96",
   "metadata": {},
   "outputs": [],
   "source": [
    "import pandas as pd\n",
    "import numpy as np\n",
    "import pickle\n",
    "from datetime import timedelta\n",
    "import calendar\n",
    "import tensorflow as tf"
   ]
  },
  {
   "cell_type": "code",
   "execution_count": 2,
   "id": "e5802042",
   "metadata": {},
   "outputs": [],
   "source": [
    "SEASONAL_MODEL_PATH = 'weather_seasonal_model.keras'\n",
    "SEASONAL_PREPROCESSOR_PATH = 'weather_seasonal_preprocessor.pkl'"
   ]
  },
  {
   "cell_type": "code",
   "execution_count": 3,
   "id": "f0debb5a",
   "metadata": {},
   "outputs": [],
   "source": [
    "def predict_weather_range(kecamatan_name: str, start_date_str: str, days_to_predict: int):\n",
    "\n",
    "    # load model and preprocessor\n",
    "    try:\n",
    "        model = tf.keras.models.load_model(SEASONAL_MODEL_PATH)\n",
    "        with open(SEASONAL_PREPROCESSOR_PATH, 'rb') as f:\n",
    "            preprocessor = pickle.load(f)\n",
    "    except FileNotFoundError as e:\n",
    "        return f\"Error: Could not load model or preprocessor. Make sure files exist. Details: {e}\"\n",
    "\n",
    "    # generate feature for range\n",
    "    try:\n",
    "        start_date = pd.to_datetime(start_date_str)\n",
    "    except ValueError:\n",
    "        return \"Error: Invalid date format. Please use 'YYYY-MM-DD'.\"\n",
    "\n",
    "    features_list = []\n",
    "    date_range = [start_date + timedelta(days=i) for i in range(days_to_predict)]\n",
    "\n",
    "    for date in date_range:\n",
    "        features_list.append({\n",
    "            'year': date.year,\n",
    "            'day_sin': np.sin(2 * np.pi * date.dayofyear / 366),\n",
    "            'day_cos': np.cos(2 * np.pi * date.dayofyear / 366),\n",
    "            'month_sin': np.sin(2 * np.pi * date.month / 12),\n",
    "            'month_cos': np.cos(2 * np.pi * date.month / 12),\n",
    "            'kecamatan': kecamatan_name\n",
    "        })\n",
    "    \n",
    "    input_df = pd.DataFrame(features_list)\n",
    "\n",
    "    # preprocess and predict\n",
    "    try:\n",
    "        input_processed = preprocessor.transform(input_df)\n",
    "    except Exception as e:\n",
    "        return f\"Error: Could not process input. It's possible the location '{kecamatan_name}' was not in the training data. Error: {e}\"\n",
    "\n",
    "    all_predicted_values = model.predict(input_processed)\n",
    "\n",
    "    # format output\n",
    "    final_results = []\n",
    "    targets = ['precipprob', 'windspeed', 'temp', 'humidity']\n",
    "    \n",
    "    for i, date in enumerate(date_range):\n",
    "        result = {\n",
    "            'date': date.strftime('%Y-%m-%d'),\n",
    "            'kecamatan': kecamatan_name,\n",
    "        }\n",
    "        predicted_values_for_day = all_predicted_values[i]\n",
    "        \n",
    "        for target, value in zip(targets, predicted_values_for_day):\n",
    "            result[f\"predicted_{target}\"] = round(float(value), 2)\n",
    "        \n",
    "        final_results.append(result)\n",
    "        \n",
    "    return final_results"
   ]
  },
  {
   "cell_type": "code",
   "execution_count": 4,
   "id": "3798c378",
   "metadata": {},
   "outputs": [
    {
     "name": "stdout",
     "output_type": "stream",
     "text": [
      "\u001b[1m1/1\u001b[0m \u001b[32m━━━━━━━━━━━━━━━━━━━━\u001b[0m\u001b[37m\u001b[0m \u001b[1m0s\u001b[0m 282ms/step\n"
     ]
    },
    {
     "data": {
      "text/plain": [
       "[{'date': '2025-06-06',\n",
       "  'kecamatan': 'berastagi',\n",
       "  'predicted_precipprob': 63.47,\n",
       "  'predicted_windspeed': 19.22,\n",
       "  'predicted_temp': 28.2,\n",
       "  'predicted_humidity': 87.74},\n",
       " {'date': '2025-06-07',\n",
       "  'kecamatan': 'berastagi',\n",
       "  'predicted_precipprob': 63.52,\n",
       "  'predicted_windspeed': 19.24,\n",
       "  'predicted_temp': 28.19,\n",
       "  'predicted_humidity': 87.78},\n",
       " {'date': '2025-06-08',\n",
       "  'kecamatan': 'berastagi',\n",
       "  'predicted_precipprob': 63.56,\n",
       "  'predicted_windspeed': 19.25,\n",
       "  'predicted_temp': 28.17,\n",
       "  'predicted_humidity': 87.83}]"
      ]
     },
     "execution_count": 4,
     "metadata": {},
     "output_type": "execute_result"
    }
   ],
   "source": [
    "predict_range = predict_weather_range(\n",
    "    kecamatan_name=\"berastagi\",\n",
    "    start_date_str=\"2025-06-06\",\n",
    "    days_to_predict=3\n",
    ")\n",
    "\n",
    "predict_range"
   ]
  },
  {
   "cell_type": "code",
   "execution_count": 5,
   "id": "8d3637b4",
   "metadata": {},
   "outputs": [],
   "source": [
    "def predict_monthly_average(kecamatan_name: str, month: int, year: int):\n",
    "\n",
    "    # load model and preprocessor\n",
    "    try:\n",
    "        model = tf.keras.models.load_model(SEASONAL_MODEL_PATH)\n",
    "        with open(SEASONAL_PREPROCESSOR_PATH, 'rb') as f:\n",
    "            preprocessor = pickle.load(f)\n",
    "    except FileNotFoundError as e:\n",
    "        return f\"Error: Could not load model or preprocessor. Make sure files exist. Details: {e}\"\n",
    "\n",
    "    # month validation\n",
    "    if not 1 <= month <= 12:\n",
    "        return \"Error: Month must be an integer between 1 and 12.\"\n",
    "\n",
    "    # generate feature for days in a month\n",
    "    start_date_str = f\"{year}-{month:02d}-01\"\n",
    "    num_days = calendar.monthrange(year, month)[1]\n",
    "    date_range = pd.to_datetime([f\"{year}-{month:02d}-{day:02d}\" for day in range(1, num_days + 1)])\n",
    "\n",
    "    features_list = []\n",
    "    for date in date_range:\n",
    "        features_list.append({\n",
    "            'year': date.year,\n",
    "            'day_sin': np.sin(2 * np.pi * date.dayofyear / 366),\n",
    "            'day_cos': np.cos(2 * np.pi * date.dayofyear / 366),\n",
    "            'month_sin': np.sin(2 * np.pi * date.month / 12),\n",
    "            'month_cos': np.cos(2 * np.pi * date.month / 12),\n",
    "            'kecamatan': kecamatan_name\n",
    "        })\n",
    "    \n",
    "    input_df = pd.DataFrame(features_list)\n",
    "\n",
    "    # preprocess and predict\n",
    "    try:\n",
    "        input_processed = preprocessor.transform(input_df)\n",
    "    except Exception as e:\n",
    "        return f\"Error: Could not process input for '{kecamatan_name}'. Error: {e}\"\n",
    "\n",
    "    all_predicted_values = model.predict(input_processed)\n",
    "\n",
    "    # calculate average and format output\n",
    "    average_values = np.mean(all_predicted_values, axis=0)\n",
    "    \n",
    "    targets = ['precipprob', 'windspeed', 'temp', 'humidity']\n",
    "    result = {\n",
    "        'year': year,\n",
    "        'month': calendar.month_name[month],\n",
    "        'kecamatan': kecamatan_name,\n",
    "    }\n",
    "    for target, value in zip(targets, average_values):\n",
    "        result[f\"average_{target}\"] = round(float(value), 2)\n",
    "        \n",
    "    return result"
   ]
  },
  {
   "cell_type": "code",
   "execution_count": 6,
   "id": "189b437d",
   "metadata": {},
   "outputs": [
    {
     "name": "stdout",
     "output_type": "stream",
     "text": [
      "\u001b[1m1/1\u001b[0m \u001b[32m━━━━━━━━━━━━━━━━━━━━\u001b[0m\u001b[37m\u001b[0m \u001b[1m0s\u001b[0m 104ms/step\n"
     ]
    },
    {
     "data": {
      "text/plain": [
       "{'year': 2026,\n",
       " 'month': 'December',\n",
       " 'kecamatan': 'berastagi',\n",
       " 'average_precipprob': 70.26,\n",
       " 'average_windspeed': 18.57,\n",
       " 'average_temp': 27.84,\n",
       " 'average_humidity': 88.85}"
      ]
     },
     "execution_count": 6,
     "metadata": {},
     "output_type": "execute_result"
    }
   ],
   "source": [
    "monthly_forecast = predict_monthly_average(\n",
    "    kecamatan_name=\"berastagi\",\n",
    "    month=12,\n",
    "    year=2026\n",
    ")\n",
    "\n",
    "monthly_forecast"
   ]
  }
 ],
 "metadata": {
  "kernelspec": {
   "display_name": "base",
   "language": "python",
   "name": "python3"
  },
  "language_info": {
   "codemirror_mode": {
    "name": "ipython",
    "version": 3
   },
   "file_extension": ".py",
   "mimetype": "text/x-python",
   "name": "python",
   "nbconvert_exporter": "python",
   "pygments_lexer": "ipython3",
   "version": "3.12.7"
  }
 },
 "nbformat": 4,
 "nbformat_minor": 5
}
