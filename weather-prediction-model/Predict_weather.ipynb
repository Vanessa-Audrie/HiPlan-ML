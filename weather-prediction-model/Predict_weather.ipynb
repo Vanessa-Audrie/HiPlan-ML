{
  "cells": [
    {
      "cell_type": "markdown",
      "metadata": {
        "id": "1JxPjHhig-S0"
      },
      "source": [
        "## Import Dependencies"
      ]
    },
    {
      "cell_type": "code",
      "execution_count": 89,
      "metadata": {},
      "outputs": [],
      "source": [
        "import gdown\n",
        "import pandas as pd\n",
        "import numpy as np\n",
        "import matplotlib.pyplot as plt\n",
        "import seaborn as sns\n",
        "import pickle\n",
        "from datetime import timedelta\n",
        "import calendar\n",
        "\n",
        "from sklearn.model_selection import train_test_split\n",
        "from sklearn.preprocessing import StandardScaler, OneHotEncoder\n",
        "from sklearn.metrics import mean_squared_error, mean_absolute_error, r2_score\n",
        "from sklearn.compose import ColumnTransformer\n",
        "\n",
        "\n",
        "import tensorflow as tf\n",
        "from tensorflow.keras.layers import Input, Embedding, Flatten, RepeatVector, Concatenate, Bidirectional, LSTM,Dense, Dropout, LayerNormalization\n",
        "from tensorflow.keras.models import Model\n",
        "from tensorflow.keras.regularizers import l2\n",
        "from tensorflow.keras.callbacks import EarlyStopping\n",
        "from keras import regularizers\n"
      ]
    },
    {
      "cell_type": "markdown",
      "metadata": {
        "id": "aqe6VCvHhCet"
      },
      "source": [
        "## Import Dataset"
      ]
    },
    {
      "cell_type": "code",
      "execution_count": 39,
      "metadata": {
        "colab": {
          "base_uri": "https://localhost:8080/"
        },
        "id": "aAQKBA2_ODhX",
        "outputId": "26ec84db-e9f7-4128-d79a-a45641e8cdb7"
      },
      "outputs": [
        {
          "name": "stderr",
          "output_type": "stream",
          "text": [
            "Downloading...\n",
            "From (original): https://drive.google.com/uc?id=1kzzLkqeBPVxUr-9Ec0GPsPR7UqtRdeMk\n",
            "From (redirected): https://drive.google.com/uc?id=1kzzLkqeBPVxUr-9Ec0GPsPR7UqtRdeMk&confirm=t&uuid=dc6d252d-d618-487d-9d66-8e3deef9ecb3\n",
            "To: d:\\KULI\\SEM 6\\DBS\\Capstone\\HiPlan-ML\\weather-prediction-model\\weather.csv\n",
            "100%|██████████| 132M/132M [00:22<00:00, 5.96MB/s] \n"
          ]
        }
      ],
      "source": [
        "url = 'https://drive.google.com/uc?id=1kzzLkqeBPVxUr-9Ec0GPsPR7UqtRdeMk'\n",
        "gdown.download(url, 'weather.csv', quiet=False)\n",
        "df = pd.read_csv('weather.csv')\n"
      ]
    },
    {
      "cell_type": "code",
      "execution_count": 46,
      "metadata": {
        "colab": {
          "base_uri": "https://localhost:8080/",
          "height": 516
        },
        "id": "DMz6e54zXMx-",
        "outputId": "75418beb-43ea-4488-e5a4-558d6370069c"
      },
      "outputs": [
        {
          "data": {
            "text/html": [
              "<div>\n",
              "<style scoped>\n",
              "    .dataframe tbody tr th:only-of-type {\n",
              "        vertical-align: middle;\n",
              "    }\n",
              "\n",
              "    .dataframe tbody tr th {\n",
              "        vertical-align: top;\n",
              "    }\n",
              "\n",
              "    .dataframe thead th {\n",
              "        text-align: right;\n",
              "    }\n",
              "</style>\n",
              "<table border=\"1\" class=\"dataframe\">\n",
              "  <thead>\n",
              "    <tr style=\"text-align: right;\">\n",
              "      <th></th>\n",
              "      <th>datetime</th>\n",
              "      <th>datetimeepoch</th>\n",
              "      <th>tempmax</th>\n",
              "      <th>tempmin</th>\n",
              "      <th>temp</th>\n",
              "      <th>feelslikemax</th>\n",
              "      <th>feelslikemin</th>\n",
              "      <th>feelslike</th>\n",
              "      <th>dew</th>\n",
              "      <th>humidity</th>\n",
              "      <th>...</th>\n",
              "      <th>description</th>\n",
              "      <th>icon</th>\n",
              "      <th>stations</th>\n",
              "      <th>source</th>\n",
              "      <th>kecamatan</th>\n",
              "      <th>severerisk</th>\n",
              "      <th>day</th>\n",
              "      <th>month</th>\n",
              "      <th>weekday</th>\n",
              "      <th>year</th>\n",
              "    </tr>\n",
              "  </thead>\n",
              "  <tbody>\n",
              "    <tr>\n",
              "      <th>0</th>\n",
              "      <td>2020-01-01</td>\n",
              "      <td>1577811600</td>\n",
              "      <td>31.1</td>\n",
              "      <td>20.6</td>\n",
              "      <td>24.8</td>\n",
              "      <td>36.9</td>\n",
              "      <td>20.6</td>\n",
              "      <td>26.0</td>\n",
              "      <td>22.0</td>\n",
              "      <td>85.6</td>\n",
              "      <td>...</td>\n",
              "      <td>partly cloudy throughout the day with rain in ...</td>\n",
              "      <td>rain</td>\n",
              "      <td>['96073099999', 'remote']</td>\n",
              "      <td>obs</td>\n",
              "      <td>angkola timur</td>\n",
              "      <td>10.0</td>\n",
              "      <td>1</td>\n",
              "      <td>1</td>\n",
              "      <td>2</td>\n",
              "      <td>2020</td>\n",
              "    </tr>\n",
              "    <tr>\n",
              "      <th>1</th>\n",
              "      <td>2020-01-02</td>\n",
              "      <td>1577898000</td>\n",
              "      <td>33.2</td>\n",
              "      <td>19.2</td>\n",
              "      <td>24.7</td>\n",
              "      <td>39.3</td>\n",
              "      <td>19.2</td>\n",
              "      <td>25.8</td>\n",
              "      <td>21.2</td>\n",
              "      <td>82.5</td>\n",
              "      <td>...</td>\n",
              "      <td>partly cloudy throughout the day with late aft...</td>\n",
              "      <td>rain</td>\n",
              "      <td>['96073099999', 'remote']</td>\n",
              "      <td>obs</td>\n",
              "      <td>angkola timur</td>\n",
              "      <td>10.0</td>\n",
              "      <td>2</td>\n",
              "      <td>1</td>\n",
              "      <td>3</td>\n",
              "      <td>2020</td>\n",
              "    </tr>\n",
              "    <tr>\n",
              "      <th>2</th>\n",
              "      <td>2020-01-03</td>\n",
              "      <td>1577984400</td>\n",
              "      <td>31.7</td>\n",
              "      <td>20.8</td>\n",
              "      <td>24.4</td>\n",
              "      <td>39.6</td>\n",
              "      <td>20.8</td>\n",
              "      <td>25.5</td>\n",
              "      <td>22.3</td>\n",
              "      <td>88.7</td>\n",
              "      <td>...</td>\n",
              "      <td>partly cloudy throughout the day with late aft...</td>\n",
              "      <td>rain</td>\n",
              "      <td>['96073099999', 'remote']</td>\n",
              "      <td>obs</td>\n",
              "      <td>angkola timur</td>\n",
              "      <td>10.0</td>\n",
              "      <td>3</td>\n",
              "      <td>1</td>\n",
              "      <td>4</td>\n",
              "      <td>2020</td>\n",
              "    </tr>\n",
              "    <tr>\n",
              "      <th>3</th>\n",
              "      <td>2020-01-04</td>\n",
              "      <td>1578070800</td>\n",
              "      <td>31.2</td>\n",
              "      <td>20.4</td>\n",
              "      <td>24.4</td>\n",
              "      <td>39.1</td>\n",
              "      <td>20.4</td>\n",
              "      <td>25.5</td>\n",
              "      <td>22.0</td>\n",
              "      <td>87.3</td>\n",
              "      <td>...</td>\n",
              "      <td>partly cloudy throughout the day with afternoo...</td>\n",
              "      <td>rain</td>\n",
              "      <td>['96073099999', 'remote']</td>\n",
              "      <td>obs</td>\n",
              "      <td>angkola timur</td>\n",
              "      <td>10.0</td>\n",
              "      <td>4</td>\n",
              "      <td>1</td>\n",
              "      <td>5</td>\n",
              "      <td>2020</td>\n",
              "    </tr>\n",
              "    <tr>\n",
              "      <th>4</th>\n",
              "      <td>2020-01-05</td>\n",
              "      <td>1578157200</td>\n",
              "      <td>31.2</td>\n",
              "      <td>20.6</td>\n",
              "      <td>25.0</td>\n",
              "      <td>37.4</td>\n",
              "      <td>20.6</td>\n",
              "      <td>26.2</td>\n",
              "      <td>22.0</td>\n",
              "      <td>84.7</td>\n",
              "      <td>...</td>\n",
              "      <td>partly cloudy throughout the day with early mo...</td>\n",
              "      <td>rain</td>\n",
              "      <td>['96073099999', 'remote']</td>\n",
              "      <td>obs</td>\n",
              "      <td>angkola timur</td>\n",
              "      <td>10.0</td>\n",
              "      <td>5</td>\n",
              "      <td>1</td>\n",
              "      <td>6</td>\n",
              "      <td>2020</td>\n",
              "    </tr>\n",
              "  </tbody>\n",
              "</table>\n",
              "<p>5 rows × 40 columns</p>\n",
              "</div>"
            ],
            "text/plain": [
              "     datetime  datetimeepoch  tempmax  tempmin  temp  feelslikemax  \\\n",
              "0  2020-01-01     1577811600     31.1     20.6  24.8          36.9   \n",
              "1  2020-01-02     1577898000     33.2     19.2  24.7          39.3   \n",
              "2  2020-01-03     1577984400     31.7     20.8  24.4          39.6   \n",
              "3  2020-01-04     1578070800     31.2     20.4  24.4          39.1   \n",
              "4  2020-01-05     1578157200     31.2     20.6  25.0          37.4   \n",
              "\n",
              "   feelslikemin  feelslike   dew  humidity  ...  \\\n",
              "0          20.6       26.0  22.0      85.6  ...   \n",
              "1          19.2       25.8  21.2      82.5  ...   \n",
              "2          20.8       25.5  22.3      88.7  ...   \n",
              "3          20.4       25.5  22.0      87.3  ...   \n",
              "4          20.6       26.2  22.0      84.7  ...   \n",
              "\n",
              "                                         description  icon  \\\n",
              "0  partly cloudy throughout the day with rain in ...  rain   \n",
              "1  partly cloudy throughout the day with late aft...  rain   \n",
              "2  partly cloudy throughout the day with late aft...  rain   \n",
              "3  partly cloudy throughout the day with afternoo...  rain   \n",
              "4  partly cloudy throughout the day with early mo...  rain   \n",
              "\n",
              "                    stations  source      kecamatan  severerisk  day  month  \\\n",
              "0  ['96073099999', 'remote']     obs  angkola timur        10.0    1      1   \n",
              "1  ['96073099999', 'remote']     obs  angkola timur        10.0    2      1   \n",
              "2  ['96073099999', 'remote']     obs  angkola timur        10.0    3      1   \n",
              "3  ['96073099999', 'remote']     obs  angkola timur        10.0    4      1   \n",
              "4  ['96073099999', 'remote']     obs  angkola timur        10.0    5      1   \n",
              "\n",
              "   weekday  year  \n",
              "0        2  2020  \n",
              "1        3  2020  \n",
              "2        4  2020  \n",
              "3        5  2020  \n",
              "4        6  2020  \n",
              "\n",
              "[5 rows x 40 columns]"
            ]
          },
          "execution_count": 46,
          "metadata": {},
          "output_type": "execute_result"
        }
      ],
      "source": [
        "df.head(5)"
      ]
    },
    {
      "cell_type": "markdown",
      "metadata": {
        "id": "tgXLbhBthJ_n"
      },
      "source": [
        "## Preprocessing"
      ]
    },
    {
      "cell_type": "code",
      "execution_count": 47,
      "metadata": {
        "id": "UcsYb3f_OiZ_"
      },
      "outputs": [],
      "source": [
        "df = df.dropna()\n",
        "df = df.drop_duplicates()\n",
        "df = df.reset_index(drop=True)"
      ]
    },
    {
      "cell_type": "code",
      "execution_count": 49,
      "metadata": {},
      "outputs": [],
      "source": [
        "df['datetime'] = pd.to_datetime(df['datetime'])"
      ]
    },
    {
      "cell_type": "markdown",
      "metadata": {
        "id": "9N4nf3PUhF-i"
      },
      "source": [
        "## Feature Engineering"
      ]
    },
    {
      "cell_type": "code",
      "execution_count": 50,
      "metadata": {
        "id": "uwehF0p2OrlR"
      },
      "outputs": [],
      "source": [
        "df['year'] = df['datetime'].dt.year\n",
        "df['month'] = df['datetime'].dt.month\n",
        "df['day_of_year'] = df['datetime'].dt.dayofyear"
      ]
    },
    {
      "cell_type": "code",
      "execution_count": 51,
      "metadata": {
        "id": "hQRyd7RZ5tUr"
      },
      "outputs": [],
      "source": [
        "df['day_sin'] = np.sin(2 * np.pi * df['day_of_year'] / 366)\n",
        "df['day_cos'] = np.cos(2 * np.pi * df['day_of_year'] / 366)\n",
        "df['month_sin'] = np.sin(2 * np.pi * df['month'] / 12)\n",
        "df['month_cos'] = np.cos(2 * np.pi * df['month'] / 12)"
      ]
    },
    {
      "cell_type": "markdown",
      "metadata": {},
      "source": [
        "## Define Features and Targets"
      ]
    },
    {
      "cell_type": "code",
      "execution_count": 52,
      "metadata": {},
      "outputs": [],
      "source": [
        "numerical_features = ['year', 'day_sin', 'day_cos', 'month_sin', 'month_cos']\n",
        "categorical_features = ['kecamatan']\n",
        "\n",
        "features = numerical_features + categorical_features\n",
        "targets = ['precipprob', 'windspeed', 'temp', 'humidity']"
      ]
    },
    {
      "cell_type": "code",
      "execution_count": 53,
      "metadata": {},
      "outputs": [],
      "source": [
        "X = df[features]\n",
        "y = df[targets]"
      ]
    },
    {
      "cell_type": "code",
      "execution_count": 56,
      "metadata": {},
      "outputs": [],
      "source": [
        "X_train, X_test, y_train, y_test = train_test_split(X, y, test_size=0.2, random_state=42)"
      ]
    },
    {
      "cell_type": "markdown",
      "metadata": {},
      "source": [
        "## Preprocessors Pipeline"
      ]
    },
    {
      "cell_type": "code",
      "execution_count": 58,
      "metadata": {},
      "outputs": [],
      "source": [
        "numerical_transformer = StandardScaler()\n",
        "categorical_transformer = OneHotEncoder(handle_unknown='ignore')"
      ]
    },
    {
      "cell_type": "code",
      "execution_count": 60,
      "metadata": {},
      "outputs": [],
      "source": [
        "preprocessor = ColumnTransformer(\n",
        "    transformers=[\n",
        "        ('num', numerical_transformer, numerical_features),\n",
        "        ('cat', categorical_transformer, categorical_features)\n",
        "    ])"
      ]
    },
    {
      "cell_type": "code",
      "execution_count": 61,
      "metadata": {},
      "outputs": [],
      "source": [
        "X_train_processed = preprocessor.fit_transform(X_train)\n",
        "X_test_processed = preprocessor.transform(X_test)"
      ]
    },
    {
      "cell_type": "markdown",
      "metadata": {},
      "source": [
        "## Model Building"
      ]
    },
    {
      "cell_type": "code",
      "execution_count": 62,
      "metadata": {},
      "outputs": [
        {
          "data": {
            "text/html": [
              "<pre style=\"white-space:pre;overflow-x:auto;line-height:normal;font-family:Menlo,'DejaVu Sans Mono',consolas,'Courier New',monospace\"><span style=\"font-weight: bold\">Model: \"functional_1\"</span>\n",
              "</pre>\n"
            ],
            "text/plain": [
              "\u001b[1mModel: \"functional_1\"\u001b[0m\n"
            ]
          },
          "metadata": {},
          "output_type": "display_data"
        },
        {
          "data": {
            "text/html": [
              "<pre style=\"white-space:pre;overflow-x:auto;line-height:normal;font-family:Menlo,'DejaVu Sans Mono',consolas,'Courier New',monospace\">┏━━━━━━━━━━━━━━━━━━━━━━━━━━━━━━━━━┳━━━━━━━━━━━━━━━━━━━━━━━━┳━━━━━━━━━━━━━━━┓\n",
              "┃<span style=\"font-weight: bold\"> Layer (type)                    </span>┃<span style=\"font-weight: bold\"> Output Shape           </span>┃<span style=\"font-weight: bold\">       Param # </span>┃\n",
              "┡━━━━━━━━━━━━━━━━━━━━━━━━━━━━━━━━━╇━━━━━━━━━━━━━━━━━━━━━━━━╇━━━━━━━━━━━━━━━┩\n",
              "│ input (<span style=\"color: #0087ff; text-decoration-color: #0087ff\">InputLayer</span>)              │ (<span style=\"color: #00d7ff; text-decoration-color: #00d7ff\">None</span>, <span style=\"color: #00af00; text-decoration-color: #00af00\">201</span>)            │             <span style=\"color: #00af00; text-decoration-color: #00af00\">0</span> │\n",
              "├─────────────────────────────────┼────────────────────────┼───────────────┤\n",
              "│ dense_3 (<span style=\"color: #0087ff; text-decoration-color: #0087ff\">Dense</span>)                 │ (<span style=\"color: #00d7ff; text-decoration-color: #00d7ff\">None</span>, <span style=\"color: #00af00; text-decoration-color: #00af00\">128</span>)            │        <span style=\"color: #00af00; text-decoration-color: #00af00\">25,856</span> │\n",
              "├─────────────────────────────────┼────────────────────────┼───────────────┤\n",
              "│ dropout_4 (<span style=\"color: #0087ff; text-decoration-color: #0087ff\">Dropout</span>)             │ (<span style=\"color: #00d7ff; text-decoration-color: #00d7ff\">None</span>, <span style=\"color: #00af00; text-decoration-color: #00af00\">128</span>)            │             <span style=\"color: #00af00; text-decoration-color: #00af00\">0</span> │\n",
              "├─────────────────────────────────┼────────────────────────┼───────────────┤\n",
              "│ dense_4 (<span style=\"color: #0087ff; text-decoration-color: #0087ff\">Dense</span>)                 │ (<span style=\"color: #00d7ff; text-decoration-color: #00d7ff\">None</span>, <span style=\"color: #00af00; text-decoration-color: #00af00\">64</span>)             │         <span style=\"color: #00af00; text-decoration-color: #00af00\">8,256</span> │\n",
              "├─────────────────────────────────┼────────────────────────┼───────────────┤\n",
              "│ dropout_5 (<span style=\"color: #0087ff; text-decoration-color: #0087ff\">Dropout</span>)             │ (<span style=\"color: #00d7ff; text-decoration-color: #00d7ff\">None</span>, <span style=\"color: #00af00; text-decoration-color: #00af00\">64</span>)             │             <span style=\"color: #00af00; text-decoration-color: #00af00\">0</span> │\n",
              "├─────────────────────────────────┼────────────────────────┼───────────────┤\n",
              "│ dense_5 (<span style=\"color: #0087ff; text-decoration-color: #0087ff\">Dense</span>)                 │ (<span style=\"color: #00d7ff; text-decoration-color: #00d7ff\">None</span>, <span style=\"color: #00af00; text-decoration-color: #00af00\">32</span>)             │         <span style=\"color: #00af00; text-decoration-color: #00af00\">2,080</span> │\n",
              "├─────────────────────────────────┼────────────────────────┼───────────────┤\n",
              "│ output (<span style=\"color: #0087ff; text-decoration-color: #0087ff\">Dense</span>)                  │ (<span style=\"color: #00d7ff; text-decoration-color: #00d7ff\">None</span>, <span style=\"color: #00af00; text-decoration-color: #00af00\">4</span>)              │           <span style=\"color: #00af00; text-decoration-color: #00af00\">132</span> │\n",
              "└─────────────────────────────────┴────────────────────────┴───────────────┘\n",
              "</pre>\n"
            ],
            "text/plain": [
              "┏━━━━━━━━━━━━━━━━━━━━━━━━━━━━━━━━━┳━━━━━━━━━━━━━━━━━━━━━━━━┳━━━━━━━━━━━━━━━┓\n",
              "┃\u001b[1m \u001b[0m\u001b[1mLayer (type)                   \u001b[0m\u001b[1m \u001b[0m┃\u001b[1m \u001b[0m\u001b[1mOutput Shape          \u001b[0m\u001b[1m \u001b[0m┃\u001b[1m \u001b[0m\u001b[1m      Param #\u001b[0m\u001b[1m \u001b[0m┃\n",
              "┡━━━━━━━━━━━━━━━━━━━━━━━━━━━━━━━━━╇━━━━━━━━━━━━━━━━━━━━━━━━╇━━━━━━━━━━━━━━━┩\n",
              "│ input (\u001b[38;5;33mInputLayer\u001b[0m)              │ (\u001b[38;5;45mNone\u001b[0m, \u001b[38;5;34m201\u001b[0m)            │             \u001b[38;5;34m0\u001b[0m │\n",
              "├─────────────────────────────────┼────────────────────────┼───────────────┤\n",
              "│ dense_3 (\u001b[38;5;33mDense\u001b[0m)                 │ (\u001b[38;5;45mNone\u001b[0m, \u001b[38;5;34m128\u001b[0m)            │        \u001b[38;5;34m25,856\u001b[0m │\n",
              "├─────────────────────────────────┼────────────────────────┼───────────────┤\n",
              "│ dropout_4 (\u001b[38;5;33mDropout\u001b[0m)             │ (\u001b[38;5;45mNone\u001b[0m, \u001b[38;5;34m128\u001b[0m)            │             \u001b[38;5;34m0\u001b[0m │\n",
              "├─────────────────────────────────┼────────────────────────┼───────────────┤\n",
              "│ dense_4 (\u001b[38;5;33mDense\u001b[0m)                 │ (\u001b[38;5;45mNone\u001b[0m, \u001b[38;5;34m64\u001b[0m)             │         \u001b[38;5;34m8,256\u001b[0m │\n",
              "├─────────────────────────────────┼────────────────────────┼───────────────┤\n",
              "│ dropout_5 (\u001b[38;5;33mDropout\u001b[0m)             │ (\u001b[38;5;45mNone\u001b[0m, \u001b[38;5;34m64\u001b[0m)             │             \u001b[38;5;34m0\u001b[0m │\n",
              "├─────────────────────────────────┼────────────────────────┼───────────────┤\n",
              "│ dense_5 (\u001b[38;5;33mDense\u001b[0m)                 │ (\u001b[38;5;45mNone\u001b[0m, \u001b[38;5;34m32\u001b[0m)             │         \u001b[38;5;34m2,080\u001b[0m │\n",
              "├─────────────────────────────────┼────────────────────────┼───────────────┤\n",
              "│ output (\u001b[38;5;33mDense\u001b[0m)                  │ (\u001b[38;5;45mNone\u001b[0m, \u001b[38;5;34m4\u001b[0m)              │           \u001b[38;5;34m132\u001b[0m │\n",
              "└─────────────────────────────────┴────────────────────────┴───────────────┘\n"
            ]
          },
          "metadata": {},
          "output_type": "display_data"
        },
        {
          "data": {
            "text/html": [
              "<pre style=\"white-space:pre;overflow-x:auto;line-height:normal;font-family:Menlo,'DejaVu Sans Mono',consolas,'Courier New',monospace\"><span style=\"font-weight: bold\"> Total params: </span><span style=\"color: #00af00; text-decoration-color: #00af00\">36,324</span> (141.89 KB)\n",
              "</pre>\n"
            ],
            "text/plain": [
              "\u001b[1m Total params: \u001b[0m\u001b[38;5;34m36,324\u001b[0m (141.89 KB)\n"
            ]
          },
          "metadata": {},
          "output_type": "display_data"
        },
        {
          "data": {
            "text/html": [
              "<pre style=\"white-space:pre;overflow-x:auto;line-height:normal;font-family:Menlo,'DejaVu Sans Mono',consolas,'Courier New',monospace\"><span style=\"font-weight: bold\"> Trainable params: </span><span style=\"color: #00af00; text-decoration-color: #00af00\">36,324</span> (141.89 KB)\n",
              "</pre>\n"
            ],
            "text/plain": [
              "\u001b[1m Trainable params: \u001b[0m\u001b[38;5;34m36,324\u001b[0m (141.89 KB)\n"
            ]
          },
          "metadata": {},
          "output_type": "display_data"
        },
        {
          "data": {
            "text/html": [
              "<pre style=\"white-space:pre;overflow-x:auto;line-height:normal;font-family:Menlo,'DejaVu Sans Mono',consolas,'Courier New',monospace\"><span style=\"font-weight: bold\"> Non-trainable params: </span><span style=\"color: #00af00; text-decoration-color: #00af00\">0</span> (0.00 B)\n",
              "</pre>\n"
            ],
            "text/plain": [
              "\u001b[1m Non-trainable params: \u001b[0m\u001b[38;5;34m0\u001b[0m (0.00 B)\n"
            ]
          },
          "metadata": {},
          "output_type": "display_data"
        }
      ],
      "source": [
        "input_shape = X_train_processed.shape[1]\n",
        "input_layer = Input(shape=(input_shape,), name='input')\n",
        "\n",
        "x = Dense(128, activation='relu')(input_layer)\n",
        "x = Dropout(0.3)(x)\n",
        "x = Dense(64, activation='relu')(x)\n",
        "x = Dropout(0.3)(x)\n",
        "x = Dense(32, activation='relu')(x)\n",
        "\n",
        "output_layer = Dense(4, name='output')(x)\n",
        "\n",
        "model = Model(inputs=input_layer, outputs=output_layer)\n",
        "\n",
        "model.compile(optimizer='adam', loss='mse', metrics=['mae'])\n",
        "model.summary()"
      ]
    },
    {
      "cell_type": "code",
      "execution_count": 67,
      "metadata": {},
      "outputs": [
        {
          "name": "stdout",
          "output_type": "stream",
          "text": [
            "Epoch 1/100\n",
            "\u001b[1m9269/9269\u001b[0m \u001b[32m━━━━━━━━━━━━━━━━━━━━\u001b[0m\u001b[37m\u001b[0m \u001b[1m24s\u001b[0m 3ms/step - loss: 218.1828 - mae: 6.2368 - val_loss: 220.2879 - val_mae: 6.1686\n",
            "Epoch 2/100\n",
            "\u001b[1m9269/9269\u001b[0m \u001b[32m━━━━━━━━━━━━━━━━━━━━\u001b[0m\u001b[37m\u001b[0m \u001b[1m32s\u001b[0m 3ms/step - loss: 216.1494 - mae: 6.1953 - val_loss: 219.9686 - val_mae: 6.1754\n",
            "Epoch 3/100\n",
            "\u001b[1m9269/9269\u001b[0m \u001b[32m━━━━━━━━━━━━━━━━━━━━\u001b[0m\u001b[37m\u001b[0m \u001b[1m23s\u001b[0m 2ms/step - loss: 216.6078 - mae: 6.2173 - val_loss: 219.7194 - val_mae: 6.0912\n",
            "Epoch 4/100\n",
            "\u001b[1m9269/9269\u001b[0m \u001b[32m━━━━━━━━━━━━━━━━━━━━\u001b[0m\u001b[37m\u001b[0m \u001b[1m23s\u001b[0m 2ms/step - loss: 214.9247 - mae: 6.1659 - val_loss: 220.4095 - val_mae: 6.1807\n",
            "Epoch 5/100\n",
            "\u001b[1m9269/9269\u001b[0m \u001b[32m━━━━━━━━━━━━━━━━━━━━\u001b[0m\u001b[37m\u001b[0m \u001b[1m23s\u001b[0m 3ms/step - loss: 216.4733 - mae: 6.2084 - val_loss: 219.4431 - val_mae: 6.1525\n",
            "Epoch 6/100\n",
            "\u001b[1m9269/9269\u001b[0m \u001b[32m━━━━━━━━━━━━━━━━━━━━\u001b[0m\u001b[37m\u001b[0m \u001b[1m22s\u001b[0m 2ms/step - loss: 215.2203 - mae: 6.1789 - val_loss: 220.9790 - val_mae: 6.2271\n",
            "Epoch 7/100\n",
            "\u001b[1m9269/9269\u001b[0m \u001b[32m━━━━━━━━━━━━━━━━━━━━\u001b[0m\u001b[37m\u001b[0m \u001b[1m23s\u001b[0m 2ms/step - loss: 215.9449 - mae: 6.1925 - val_loss: 220.5403 - val_mae: 5.9304\n",
            "Epoch 8/100\n",
            "\u001b[1m9269/9269\u001b[0m \u001b[32m━━━━━━━━━━━━━━━━━━━━\u001b[0m\u001b[37m\u001b[0m \u001b[1m22s\u001b[0m 2ms/step - loss: 215.8958 - mae: 6.1849 - val_loss: 221.4294 - val_mae: 6.1404\n",
            "Epoch 9/100\n",
            "\u001b[1m9269/9269\u001b[0m \u001b[32m━━━━━━━━━━━━━━━━━━━━\u001b[0m\u001b[37m\u001b[0m \u001b[1m25s\u001b[0m 3ms/step - loss: 216.6583 - mae: 6.2150 - val_loss: 220.4169 - val_mae: 6.0503\n",
            "Epoch 10/100\n",
            "\u001b[1m9269/9269\u001b[0m \u001b[32m━━━━━━━━━━━━━━━━━━━━\u001b[0m\u001b[37m\u001b[0m \u001b[1m26s\u001b[0m 3ms/step - loss: 215.8411 - mae: 6.1881 - val_loss: 220.9284 - val_mae: 6.0405\n",
            "Epoch 11/100\n",
            "\u001b[1m9269/9269\u001b[0m \u001b[32m━━━━━━━━━━━━━━━━━━━━\u001b[0m\u001b[37m\u001b[0m \u001b[1m24s\u001b[0m 3ms/step - loss: 216.0961 - mae: 6.1921 - val_loss: 220.7374 - val_mae: 6.2237\n",
            "Epoch 12/100\n",
            "\u001b[1m9269/9269\u001b[0m \u001b[32m━━━━━━━━━━━━━━━━━━━━\u001b[0m\u001b[37m\u001b[0m \u001b[1m25s\u001b[0m 3ms/step - loss: 216.6046 - mae: 6.2027 - val_loss: 219.8738 - val_mae: 6.0389\n",
            "Epoch 13/100\n",
            "\u001b[1m9269/9269\u001b[0m \u001b[32m━━━━━━━━━━━━━━━━━━━━\u001b[0m\u001b[37m\u001b[0m \u001b[1m24s\u001b[0m 3ms/step - loss: 215.9426 - mae: 6.1905 - val_loss: 220.3306 - val_mae: 6.1754\n",
            "Epoch 14/100\n",
            "\u001b[1m9269/9269\u001b[0m \u001b[32m━━━━━━━━━━━━━━━━━━━━\u001b[0m\u001b[37m\u001b[0m \u001b[1m26s\u001b[0m 3ms/step - loss: 216.2017 - mae: 6.1988 - val_loss: 220.1343 - val_mae: 6.2742\n",
            "Epoch 15/100\n",
            "\u001b[1m9269/9269\u001b[0m \u001b[32m━━━━━━━━━━━━━━━━━━━━\u001b[0m\u001b[37m\u001b[0m \u001b[1m27s\u001b[0m 3ms/step - loss: 215.7664 - mae: 6.1884 - val_loss: 221.4118 - val_mae: 6.3997\n"
          ]
        }
      ],
      "source": [
        "early_stop = EarlyStopping(monitor='val_loss', patience=10, restore_best_weights=True)\n",
        "\n",
        "history = model.fit(\n",
        "    X_train_processed, y_train,\n",
        "    validation_data=(X_test_processed, y_test),\n",
        "    epochs=100,\n",
        "    batch_size=32,\n",
        "    callbacks=[early_stop],\n",
        "    verbose=1\n",
        ")"
      ]
    },
    {
      "cell_type": "markdown",
      "metadata": {},
      "source": [
        "## Model Evaluation"
      ]
    },
    {
      "cell_type": "code",
      "execution_count": 68,
      "metadata": {},
      "outputs": [
        {
          "data": {
            "image/png": "[encoded data removed]",
            "text/plain": [
              "<Figure size 1000x600 with 1 Axes>"
            ]
          },
          "metadata": {},
          "output_type": "display_data"
        }
      ],
      "source": [
        "plt.style.use('seaborn-v0_8-whitegrid')\n",
        "fig, ax = plt.subplots(figsize=(10, 6))\n",
        "\n",
        "ax.plot(history.history['loss'], label='Train Loss')\n",
        "ax.plot(history.history['val_loss'], label='Validation Loss')\n",
        "\n",
        "ax.set_title('Model Training and Validation Loss', fontsize=16)\n",
        "ax.set_xlabel('Epoch', fontsize=12)\n",
        "ax.set_ylabel('Loss (Mean Squared Error)', fontsize=12)\n",
        "ax.legend(fontsize=12)\n",
        "\n",
        "plt.show()"
      ]
    },
    {
      "cell_type": "code",
      "execution_count": 69,
      "metadata": {},
      "outputs": [
        {
          "name": "stdout",
          "output_type": "stream",
          "text": [
            "\u001b[1m2318/2318\u001b[0m \u001b[32m━━━━━━━━━━━━━━━━━━━━\u001b[0m\u001b[37m\u001b[0m \u001b[1m4s\u001b[0m 1ms/step\n",
            "\n",
            "Metrics for precipprob:\n",
            "  Mean Squared Error (MSE): 828.7054\n",
            "  Mean Absolute Error (MAE): 16.7692\n",
            "  R-squared (R²):           0.3271\n",
            "\n",
            "Metrics for windspeed:\n",
            "  Mean Squared Error (MSE): 26.3666\n",
            "  Mean Absolute Error (MAE): 3.3758\n",
            "  R-squared (R²):           0.5268\n",
            "\n",
            "Metrics for temp:\n",
            "  Mean Squared Error (MSE): 1.7450\n",
            "  Mean Absolute Error (MAE): 0.9769\n",
            "  R-squared (R²):           0.8148\n",
            "\n",
            "Metrics for humidity:\n",
            "  Mean Squared Error (MSE): 20.9546\n",
            "  Mean Absolute Error (MAE): 3.4879\n",
            "  R-squared (R²):           0.5545\n"
          ]
        }
      ],
      "source": [
        "y_pred = model.predict(X_test_processed)\n",
        "\n",
        "for i, target_name in enumerate(targets):\n",
        "    print(f\"\\nMetrics for {target_name}:\")\n",
        "    \n",
        "    y_true_target = y_test[target_name]\n",
        "    y_pred_target = y_pred[:, i]\n",
        "    \n",
        "    mse = mean_squared_error(y_true_target, y_pred_target)\n",
        "    mae = mean_absolute_error(y_true_target, y_pred_target)\n",
        "    r2 = r2_score(y_true_target, y_pred_target)\n",
        "    \n",
        "    print(f\"  Mean Squared Error (MSE): {mse:.4f}\")\n",
        "    print(f\"  Mean Absolute Error (MAE): {mae:.4f}\")\n",
        "    print(f\"  R-squared (R²):           {r2:.4f}\")"
      ]
    },
    {
      "cell_type": "markdown",
      "metadata": {},
      "source": [
        "## Save Model"
      ]
    },
    {
      "cell_type": "code",
      "execution_count": 70,
      "metadata": {},
      "outputs": [
        {
          "name": "stdout",
          "output_type": "stream",
          "text": [
            "Seasonal model and preprocessor saved.\n"
          ]
        }
      ],
      "source": [
        "SEASONAL_MODEL_PATH = 'weather_seasonal_model.keras'\n",
        "SEASONAL_PREPROCESSOR_PATH = 'weather_seasonal_preprocessor.pkl'\n",
        "\n",
        "model.save(SEASONAL_MODEL_PATH)\n",
        "\n",
        "with open(SEASONAL_PREPROCESSOR_PATH, 'wb') as f:\n",
        "    pickle.dump(preprocessor, f)\n",
        "\n",
        "print(\"Seasonal model and preprocessor saved.\")"
      ]
    },
    {
      "cell_type": "markdown",
      "metadata": {},
      "source": [
        "## Testing"
      ]
    },
    {
      "cell_type": "code",
      "execution_count": null,
      "metadata": {},
      "outputs": [],
      "source": [
        "def predict_weather_range(kecamatan_name: str, start_date_str: str, days_to_predict: int):\n",
        "\n",
        "    # load model and preprocessor\n",
        "    try:\n",
        "        model = tf.keras.models.load_model(SEASONAL_MODEL_PATH)\n",
        "        with open(SEASONAL_PREPROCESSOR_PATH, 'rb') as f:\n",
        "            preprocessor = pickle.load(f)\n",
        "    except FileNotFoundError as e:\n",
        "        return f\"Error: Could not load model or preprocessor. Make sure files exist. Details: {e}\"\n",
        "\n",
        "    # generate feature for range\n",
        "    try:\n",
        "        start_date = pd.to_datetime(start_date_str)\n",
        "    except ValueError:\n",
        "        return \"Error: Invalid date format. Please use 'YYYY-MM-DD'.\"\n",
        "\n",
        "    features_list = []\n",
        "    date_range = [start_date + timedelta(days=i) for i in range(days_to_predict)]\n",
        "\n",
        "    for date in date_range:\n",
        "        features_list.append({\n",
        "            'year': date.year,\n",
        "            'day_sin': np.sin(2 * np.pi * date.dayofyear / 366),\n",
        "            'day_cos': np.cos(2 * np.pi * date.dayofyear / 366),\n",
        "            'month_sin': np.sin(2 * np.pi * date.month / 12),\n",
        "            'month_cos': np.cos(2 * np.pi * date.month / 12),\n",
        "            'kecamatan': kecamatan_name\n",
        "        })\n",
        "    \n",
        "    input_df = pd.DataFrame(features_list)\n",
        "\n",
        "    # preprocess and predict\n",
        "    try:\n",
        "        input_processed = preprocessor.transform(input_df)\n",
        "    except Exception as e:\n",
        "        return f\"Error: Could not process input. It's possible the location '{kecamatan_name}' was not in the training data. Error: {e}\"\n",
        "\n",
        "    all_predicted_values = model.predict(input_processed)\n",
        "\n",
        "    # format output\n",
        "    final_results = []\n",
        "    targets = ['precipprob', 'windspeed', 'temp', 'humidity']\n",
        "    \n",
        "    for i, date in enumerate(date_range):\n",
        "        result = {\n",
        "            'date': date.strftime('%Y-%m-%d'),\n",
        "            'kecamatan': kecamatan_name,\n",
        "        }\n",
        "        predicted_values_for_day = all_predicted_values[i]\n",
        "        \n",
        "        for target, value in zip(targets, predicted_values_for_day):\n",
        "            result[f\"predicted_{target}\"] = round(float(value), 2)\n",
        "        \n",
        "        final_results.append(result)\n",
        "        \n",
        "    return final_results"
      ]
    },
    {
      "cell_type": "code",
      "execution_count": null,
      "metadata": {},
      "outputs": [
        {
          "name": "stdout",
          "output_type": "stream",
          "text": [
            "\u001b[1m1/1\u001b[0m \u001b[32m━━━━━━━━━━━━━━━━━━━━\u001b[0m\u001b[37m\u001b[0m \u001b[1m0s\u001b[0m 140ms/step\n"
          ]
        },
        {
          "data": {
            "text/plain": [
              "[{'date': '2025-06-06',\n",
              "  'kecamatan': 'berastagi',\n",
              "  'predicted_precipprob': 63.47,\n",
              "  'predicted_windspeed': 19.22,\n",
              "  'predicted_temp': 28.2,\n",
              "  'predicted_humidity': 87.74},\n",
              " {'date': '2025-06-07',\n",
              "  'kecamatan': 'berastagi',\n",
              "  'predicted_precipprob': 63.52,\n",
              "  'predicted_windspeed': 19.24,\n",
              "  'predicted_temp': 28.19,\n",
              "  'predicted_humidity': 87.78},\n",
              " {'date': '2025-06-08',\n",
              "  'kecamatan': 'berastagi',\n",
              "  'predicted_precipprob': 63.56,\n",
              "  'predicted_windspeed': 19.25,\n",
              "  'predicted_temp': 28.17,\n",
              "  'predicted_humidity': 87.83}]"
            ]
          },
          "execution_count": 88,
          "metadata": {},
          "output_type": "execute_result"
        }
      ],
      "source": [
        "predict_range = predict_weather_range(\n",
        "    kecamatan_name=\"berastagi\",\n",
        "    start_date_str=\"2025-06-06\",\n",
        "    days_to_predict=3\n",
        ")\n",
        "\n",
        "predict_range"
      ]
    },
    {
      "cell_type": "code",
      "execution_count": 93,
      "metadata": {},
      "outputs": [],
      "source": [
        "def predict_monthly_average(kecamatan_name: str, month: int, year: int):\n",
        "    \"\"\"\n",
        "    Predicts the average seasonal weather for a given month and year.\n",
        "    \"\"\"\n",
        "    # load model and preprocessor\n",
        "    try:\n",
        "        model = tf.keras.models.load_model(SEASONAL_MODEL_PATH)\n",
        "        with open(SEASONAL_PREPROCESSOR_PATH, 'rb') as f:\n",
        "            preprocessor = pickle.load(f)\n",
        "    except FileNotFoundError as e:\n",
        "        return f\"Error: Could not load model or preprocessor. Make sure files exist. Details: {e}\"\n",
        "\n",
        "    # month validation\n",
        "    if not 1 <= month <= 12:\n",
        "        return \"Error: Month must be an integer between 1 and 12.\"\n",
        "\n",
        "    # generate feature for days in a month\n",
        "    start_date_str = f\"{year}-{month:02d}-01\"\n",
        "    num_days = calendar.monthrange(year, month)[1]\n",
        "    date_range = pd.to_datetime([f\"{year}-{month:02d}-{day:02d}\" for day in range(1, num_days + 1)])\n",
        "\n",
        "    features_list = []\n",
        "    for date in date_range:\n",
        "        features_list.append({\n",
        "            'year': date.year,\n",
        "            'day_sin': np.sin(2 * np.pi * date.dayofyear / 366),\n",
        "            'day_cos': np.cos(2 * np.pi * date.dayofyear / 366),\n",
        "            'month_sin': np.sin(2 * np.pi * date.month / 12),\n",
        "            'month_cos': np.cos(2 * np.pi * date.month / 12),\n",
        "            'kecamatan': kecamatan_name\n",
        "        })\n",
        "    \n",
        "    input_df = pd.DataFrame(features_list)\n",
        "\n",
        "    # preprocess and predict\n",
        "    try:\n",
        "        input_processed = preprocessor.transform(input_df)\n",
        "    except Exception as e:\n",
        "        return f\"Error: Could not process input for '{kecamatan_name}'. Error: {e}\"\n",
        "\n",
        "    all_predicted_values = model.predict(input_processed)\n",
        "\n",
        "    # calculate average and format output\n",
        "    average_values = np.mean(all_predicted_values, axis=0)\n",
        "    \n",
        "    targets = ['precipprob', 'windspeed', 'temp', 'humidity']\n",
        "    result = {\n",
        "        'year': year,\n",
        "        'month': calendar.month_name[month],\n",
        "        'kecamatan': kecamatan_name,\n",
        "    }\n",
        "    for target, value in zip(targets, average_values):\n",
        "        result[f\"average_{target}\"] = round(float(value), 2)\n",
        "        \n",
        "    return result"
      ]
    },
    {
      "cell_type": "code",
      "execution_count": 96,
      "metadata": {},
      "outputs": [
        {
          "name": "stdout",
          "output_type": "stream",
          "text": [
            "\u001b[1m1/1\u001b[0m \u001b[32m━━━━━━━━━━━━━━━━━━━━\u001b[0m\u001b[37m\u001b[0m \u001b[1m0s\u001b[0m 149ms/step\n"
          ]
        },
        {
          "data": {
            "text/plain": [
              "{'year': 2026,\n",
              " 'month': 'December',\n",
              " 'kecamatan': 'berastagi',\n",
              " 'average_precipprob': 70.26,\n",
              " 'average_windspeed': 18.57,\n",
              " 'average_temp': 27.84,\n",
              " 'average_humidity': 88.85}"
            ]
          },
          "execution_count": 96,
          "metadata": {},
          "output_type": "execute_result"
        }
      ],
      "source": [
        "monthly_forecast = predict_monthly_average(\n",
        "    kecamatan_name=\"berastagi\",\n",
        "    month=12,\n",
        "    year=2026\n",
        ")\n",
        "\n",
        "monthly_forecast"
      ]
    }
  ],
  "metadata": {
    "accelerator": "GPU",
    "colab": {
      "gpuType": "T4",
      "provenance": []
    },
    "kernelspec": {
      "display_name": "base",
      "language": "python",
      "name": "python3"
    },
    "language_info": {
      "codemirror_mode": {
        "name": "ipython",
        "version": 3
      },
      "file_extension": ".py",
      "mimetype": "text/x-python",
      "name": "python",
      "nbconvert_exporter": "python",
      "pygments_lexer": "ipython3",
      "version": "3.12.7"
    }
  },
  "nbformat": 4,
  "nbformat_minor": 0
}
