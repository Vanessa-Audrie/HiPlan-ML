{
  "cells": [
    {
      "cell_type": "markdown",
      "metadata": {
        "id": "1JxPjHhig-S0"
      },
      "source": [
        "## Import Dependencies"
      ]
    },
    {
      "cell_type": "code",
      "execution_count": 1,
      "metadata": {
        "id": "YJXvO_RWN5dy"
      },
      "outputs": [],
      "source": [
        "import gdown\n",
        "import pandas as pd\n",
        "import numpy as np\n",
        "import matplotlib.pyplot as plt\n",
        "import seaborn as sns\n",
        "import pickle\n",
        "\n",
        "from sklearn.preprocessing import LabelEncoder, RobustScaler\n",
        "from sklearn.metrics import mean_squared_error, mean_absolute_error, r2_score\n",
        "\n",
        "\n",
        "import tensorflow as tf\n",
        "from tensorflow.keras.layers import Input, Embedding, Flatten, RepeatVector, Concatenate, Bidirectional, LSTM,Dense, Dropout, LayerNormalization\n",
        "from tensorflow.keras.models import Model\n",
        "from tensorflow.keras.regularizers import l2\n",
        "from tensorflow.keras.callbacks import EarlyStopping\n",
        "from keras import regularizers\n"
      ]
    },
    {
      "cell_type": "markdown",
      "metadata": {
        "id": "aqe6VCvHhCet"
      },
      "source": [
        "## Import Dataset"
      ]
    },
    {
      "cell_type": "code",
      "execution_count": 2,
      "metadata": {
        "colab": {
          "base_uri": "https://localhost:8080/"
        },
        "id": "aAQKBA2_ODhX",
        "outputId": "26ec84db-e9f7-4128-d79a-a45641e8cdb7"
      },
      "outputs": [
        {
          "name": "stderr",
          "output_type": "stream",
          "text": [
            "Downloading...\n",
            "From (original): https://drive.google.com/uc?id=1kzzLkqeBPVxUr-9Ec0GPsPR7UqtRdeMk\n",
            "From (redirected): https://drive.google.com/uc?id=1kzzLkqeBPVxUr-9Ec0GPsPR7UqtRdeMk&confirm=t&uuid=5a3f12ff-3deb-46a0-9b2c-af7ad1dc7eb1\n",
            "To: d:\\KULI\\SEM 6\\DBS\\Capstone\\HiPlan-ML\\weather-prediction-model\\weather.csv\n",
            "100%|██████████| 132M/132M [00:22<00:00, 5.95MB/s] \n"
          ]
        }
      ],
      "source": [
        "url = 'https://drive.google.com/uc?id=1kzzLkqeBPVxUr-9Ec0GPsPR7UqtRdeMk'\n",
        "gdown.download(url, 'weather.csv', quiet=False)\n",
        "df = pd.read_csv('weather.csv')\n"
      ]
    },
    {
      "cell_type": "code",
      "execution_count": 3,
      "metadata": {
        "colab": {
          "base_uri": "https://localhost:8080/",
          "height": 516
        },
        "id": "DMz6e54zXMx-",
        "outputId": "75418beb-43ea-4488-e5a4-558d6370069c"
      },
      "outputs": [
        {
          "data": {
            "text/html": [
              "<div>\n",
              "<style scoped>\n",
              "    .dataframe tbody tr th:only-of-type {\n",
              "        vertical-align: middle;\n",
              "    }\n",
              "\n",
              "    .dataframe tbody tr th {\n",
              "        vertical-align: top;\n",
              "    }\n",
              "\n",
              "    .dataframe thead th {\n",
              "        text-align: right;\n",
              "    }\n",
              "</style>\n",
              "<table border=\"1\" class=\"dataframe\">\n",
              "  <thead>\n",
              "    <tr style=\"text-align: right;\">\n",
              "      <th></th>\n",
              "      <th>datetime</th>\n",
              "      <th>datetimeepoch</th>\n",
              "      <th>tempmax</th>\n",
              "      <th>tempmin</th>\n",
              "      <th>temp</th>\n",
              "      <th>feelslikemax</th>\n",
              "      <th>feelslikemin</th>\n",
              "      <th>feelslike</th>\n",
              "      <th>dew</th>\n",
              "      <th>humidity</th>\n",
              "      <th>...</th>\n",
              "      <th>description</th>\n",
              "      <th>icon</th>\n",
              "      <th>stations</th>\n",
              "      <th>source</th>\n",
              "      <th>kecamatan</th>\n",
              "      <th>severerisk</th>\n",
              "      <th>day</th>\n",
              "      <th>month</th>\n",
              "      <th>weekday</th>\n",
              "      <th>year</th>\n",
              "    </tr>\n",
              "  </thead>\n",
              "  <tbody>\n",
              "    <tr>\n",
              "      <th>0</th>\n",
              "      <td>2020-01-01</td>\n",
              "      <td>1577811600</td>\n",
              "      <td>31.1</td>\n",
              "      <td>20.6</td>\n",
              "      <td>24.8</td>\n",
              "      <td>36.9</td>\n",
              "      <td>20.6</td>\n",
              "      <td>26.0</td>\n",
              "      <td>22.0</td>\n",
              "      <td>85.6</td>\n",
              "      <td>...</td>\n",
              "      <td>partly cloudy throughout the day with rain in ...</td>\n",
              "      <td>rain</td>\n",
              "      <td>['96073099999', 'remote']</td>\n",
              "      <td>obs</td>\n",
              "      <td>angkola timur</td>\n",
              "      <td>10.0</td>\n",
              "      <td>1</td>\n",
              "      <td>1</td>\n",
              "      <td>2</td>\n",
              "      <td>2020</td>\n",
              "    </tr>\n",
              "    <tr>\n",
              "      <th>1</th>\n",
              "      <td>2020-01-02</td>\n",
              "      <td>1577898000</td>\n",
              "      <td>33.2</td>\n",
              "      <td>19.2</td>\n",
              "      <td>24.7</td>\n",
              "      <td>39.3</td>\n",
              "      <td>19.2</td>\n",
              "      <td>25.8</td>\n",
              "      <td>21.2</td>\n",
              "      <td>82.5</td>\n",
              "      <td>...</td>\n",
              "      <td>partly cloudy throughout the day with late aft...</td>\n",
              "      <td>rain</td>\n",
              "      <td>['96073099999', 'remote']</td>\n",
              "      <td>obs</td>\n",
              "      <td>angkola timur</td>\n",
              "      <td>10.0</td>\n",
              "      <td>2</td>\n",
              "      <td>1</td>\n",
              "      <td>3</td>\n",
              "      <td>2020</td>\n",
              "    </tr>\n",
              "    <tr>\n",
              "      <th>2</th>\n",
              "      <td>2020-01-03</td>\n",
              "      <td>1577984400</td>\n",
              "      <td>31.7</td>\n",
              "      <td>20.8</td>\n",
              "      <td>24.4</td>\n",
              "      <td>39.6</td>\n",
              "      <td>20.8</td>\n",
              "      <td>25.5</td>\n",
              "      <td>22.3</td>\n",
              "      <td>88.7</td>\n",
              "      <td>...</td>\n",
              "      <td>partly cloudy throughout the day with late aft...</td>\n",
              "      <td>rain</td>\n",
              "      <td>['96073099999', 'remote']</td>\n",
              "      <td>obs</td>\n",
              "      <td>angkola timur</td>\n",
              "      <td>10.0</td>\n",
              "      <td>3</td>\n",
              "      <td>1</td>\n",
              "      <td>4</td>\n",
              "      <td>2020</td>\n",
              "    </tr>\n",
              "    <tr>\n",
              "      <th>3</th>\n",
              "      <td>2020-01-04</td>\n",
              "      <td>1578070800</td>\n",
              "      <td>31.2</td>\n",
              "      <td>20.4</td>\n",
              "      <td>24.4</td>\n",
              "      <td>39.1</td>\n",
              "      <td>20.4</td>\n",
              "      <td>25.5</td>\n",
              "      <td>22.0</td>\n",
              "      <td>87.3</td>\n",
              "      <td>...</td>\n",
              "      <td>partly cloudy throughout the day with afternoo...</td>\n",
              "      <td>rain</td>\n",
              "      <td>['96073099999', 'remote']</td>\n",
              "      <td>obs</td>\n",
              "      <td>angkola timur</td>\n",
              "      <td>10.0</td>\n",
              "      <td>4</td>\n",
              "      <td>1</td>\n",
              "      <td>5</td>\n",
              "      <td>2020</td>\n",
              "    </tr>\n",
              "    <tr>\n",
              "      <th>4</th>\n",
              "      <td>2020-01-05</td>\n",
              "      <td>1578157200</td>\n",
              "      <td>31.2</td>\n",
              "      <td>20.6</td>\n",
              "      <td>25.0</td>\n",
              "      <td>37.4</td>\n",
              "      <td>20.6</td>\n",
              "      <td>26.2</td>\n",
              "      <td>22.0</td>\n",
              "      <td>84.7</td>\n",
              "      <td>...</td>\n",
              "      <td>partly cloudy throughout the day with early mo...</td>\n",
              "      <td>rain</td>\n",
              "      <td>['96073099999', 'remote']</td>\n",
              "      <td>obs</td>\n",
              "      <td>angkola timur</td>\n",
              "      <td>10.0</td>\n",
              "      <td>5</td>\n",
              "      <td>1</td>\n",
              "      <td>6</td>\n",
              "      <td>2020</td>\n",
              "    </tr>\n",
              "  </tbody>\n",
              "</table>\n",
              "<p>5 rows × 40 columns</p>\n",
              "</div>"
            ],
            "text/plain": [
              "     datetime  datetimeepoch  tempmax  tempmin  temp  feelslikemax  \\\n",
              "0  2020-01-01     1577811600     31.1     20.6  24.8          36.9   \n",
              "1  2020-01-02     1577898000     33.2     19.2  24.7          39.3   \n",
              "2  2020-01-03     1577984400     31.7     20.8  24.4          39.6   \n",
              "3  2020-01-04     1578070800     31.2     20.4  24.4          39.1   \n",
              "4  2020-01-05     1578157200     31.2     20.6  25.0          37.4   \n",
              "\n",
              "   feelslikemin  feelslike   dew  humidity  ...  \\\n",
              "0          20.6       26.0  22.0      85.6  ...   \n",
              "1          19.2       25.8  21.2      82.5  ...   \n",
              "2          20.8       25.5  22.3      88.7  ...   \n",
              "3          20.4       25.5  22.0      87.3  ...   \n",
              "4          20.6       26.2  22.0      84.7  ...   \n",
              "\n",
              "                                         description  icon  \\\n",
              "0  partly cloudy throughout the day with rain in ...  rain   \n",
              "1  partly cloudy throughout the day with late aft...  rain   \n",
              "2  partly cloudy throughout the day with late aft...  rain   \n",
              "3  partly cloudy throughout the day with afternoo...  rain   \n",
              "4  partly cloudy throughout the day with early mo...  rain   \n",
              "\n",
              "                    stations  source      kecamatan  severerisk  day  month  \\\n",
              "0  ['96073099999', 'remote']     obs  angkola timur        10.0    1      1   \n",
              "1  ['96073099999', 'remote']     obs  angkola timur        10.0    2      1   \n",
              "2  ['96073099999', 'remote']     obs  angkola timur        10.0    3      1   \n",
              "3  ['96073099999', 'remote']     obs  angkola timur        10.0    4      1   \n",
              "4  ['96073099999', 'remote']     obs  angkola timur        10.0    5      1   \n",
              "\n",
              "   weekday  year  \n",
              "0        2  2020  \n",
              "1        3  2020  \n",
              "2        4  2020  \n",
              "3        5  2020  \n",
              "4        6  2020  \n",
              "\n",
              "[5 rows x 40 columns]"
            ]
          },
          "execution_count": 3,
          "metadata": {},
          "output_type": "execute_result"
        }
      ],
      "source": [
        "df.head(5)"
      ]
    },
    {
      "cell_type": "markdown",
      "metadata": {
        "id": "9N4nf3PUhF-i"
      },
      "source": [
        "## Feature Engineering"
      ]
    },
    {
      "cell_type": "code",
      "execution_count": 4,
      "metadata": {
        "id": "uwehF0p2OrlR"
      },
      "outputs": [],
      "source": [
        "df['datetime'] = pd.to_datetime(df['datetime'])\n",
        "df['year'] = df['datetime'].dt.year\n",
        "df['month'] = df['datetime'].dt.month\n",
        "df['day'] = df['datetime'].dt.day\n",
        "df['weekday'] = df['datetime'].dt.weekday"
      ]
    },
    {
      "cell_type": "code",
      "execution_count": 5,
      "metadata": {
        "id": "46zgFix79o0j"
      },
      "outputs": [],
      "source": [
        "if 'kecamatan' in df.columns:\n",
        "  df['pressure_diff'] = df.groupby('kecamatan')['pressure'].diff()\n",
        "\n",
        "else:\n",
        "  df['pressure_diff'] = df['pressure'].diff().fillna(0)\n",
        "\n",
        "df['dew_point_spread'] = df['temp'] - df['dew']\n"
      ]
    },
    {
      "cell_type": "code",
      "execution_count": 6,
      "metadata": {
        "id": "obVu_peX9r-A"
      },
      "outputs": [],
      "source": [
        "LAG_PERIOD = 1\n",
        "if 'kecamatan' in df.columns:\n",
        "  df[f'humidity_lag{LAG_PERIOD}'] = df.groupby('kecamatan')['humidity'].shift(LAG_PERIOD)\n",
        "  df[f'humidity_lag{LAG_PERIOD}'] = df[f'humidity_lag{LAG_PERIOD}'].fillna(df['humidity'].median())\n",
        "else:\n",
        "  df[f'humidity_lag{LAG_PERIOD}'] = df['humidity'].shift(LAG_PERIOD)\n",
        "  df[f'humidity_lag{LAG_PERIOD}'] = df[f'humidity_lag{LAG_PERIOD}'].fillna(df['humidity'].median())"
      ]
    },
    {
      "cell_type": "markdown",
      "metadata": {
        "id": "tgXLbhBthJ_n"
      },
      "source": [
        "## Preprocessing"
      ]
    },
    {
      "cell_type": "code",
      "execution_count": 7,
      "metadata": {
        "id": "UcsYb3f_OiZ_"
      },
      "outputs": [],
      "source": [
        "df = df.dropna()\n",
        "df = df.drop_duplicates()\n",
        "df = df.reset_index(drop=True)"
      ]
    },
    {
      "cell_type": "code",
      "execution_count": 8,
      "metadata": {
        "colab": {
          "base_uri": "https://localhost:8080/",
          "height": 1000
        },
        "id": "eBgmxXrBOjKI",
        "outputId": "9bef3f6c-804a-4c43-a383-1346d6c3ee69"
      },
      "outputs": [
        {
          "data": {
            "text/plain": [
              "datetime            0\n",
              "datetimeepoch       0\n",
              "tempmax             0\n",
              "tempmin             0\n",
              "temp                0\n",
              "feelslikemax        0\n",
              "feelslikemin        0\n",
              "feelslike           0\n",
              "dew                 0\n",
              "humidity            0\n",
              "precip              0\n",
              "precipprob          0\n",
              "precipcover         0\n",
              "snow                0\n",
              "snowdepth           0\n",
              "windgust            0\n",
              "windspeed           0\n",
              "winddir             0\n",
              "pressure            0\n",
              "cloudcover          0\n",
              "visibility          0\n",
              "solarradiation      0\n",
              "solarenergy         0\n",
              "uvindex             0\n",
              "sunrise             0\n",
              "sunriseepoch        0\n",
              "sunset              0\n",
              "sunsetepoch         0\n",
              "moonphase           0\n",
              "conditions          0\n",
              "description         0\n",
              "icon                0\n",
              "stations            0\n",
              "source              0\n",
              "kecamatan           0\n",
              "severerisk          0\n",
              "day                 0\n",
              "month               0\n",
              "weekday             0\n",
              "year                0\n",
              "pressure_diff       0\n",
              "dew_point_spread    0\n",
              "humidity_lag1       0\n",
              "dtype: int64"
            ]
          },
          "execution_count": 8,
          "metadata": {},
          "output_type": "execute_result"
        }
      ],
      "source": [
        "df.isna().sum()"
      ]
    },
    {
      "cell_type": "code",
      "execution_count": 9,
      "metadata": {
        "colab": {
          "base_uri": "https://localhost:8080/"
        },
        "id": "cp_l7LPfOm5B",
        "outputId": "ed779ef0-d299-4219-f678-de26636e0d7f"
      },
      "outputs": [
        {
          "data": {
            "text/plain": [
              "0"
            ]
          },
          "execution_count": 9,
          "metadata": {},
          "output_type": "execute_result"
        }
      ],
      "source": [
        "df.duplicated().sum()"
      ]
    },
    {
      "cell_type": "code",
      "execution_count": 10,
      "metadata": {
        "id": "_mci29VAO02R"
      },
      "outputs": [],
      "source": [
        "targets = ['precipprob', 'windspeed', 'temp', 'humidity']"
      ]
    },
    {
      "cell_type": "code",
      "execution_count": 11,
      "metadata": {
        "colab": {
          "base_uri": "https://localhost:8080/"
        },
        "id": "ZSZTmD83x8RY",
        "outputId": "4f5a522e-8ee1-4518-bbdf-da600943ac4e"
      },
      "outputs": [
        {
          "data": {
            "text/plain": [
              "['datetimeepoch',\n",
              " 'tempmax',\n",
              " 'tempmin',\n",
              " 'feelslikemax',\n",
              " 'feelslikemin',\n",
              " 'feelslike',\n",
              " 'dew',\n",
              " 'precip',\n",
              " 'precipcover',\n",
              " 'snow',\n",
              " 'snowdepth',\n",
              " 'windgust',\n",
              " 'winddir',\n",
              " 'pressure',\n",
              " 'cloudcover',\n",
              " 'visibility',\n",
              " 'solarradiation',\n",
              " 'solarenergy',\n",
              " 'uvindex',\n",
              " 'sunriseepoch',\n",
              " 'sunsetepoch',\n",
              " 'moonphase',\n",
              " 'severerisk',\n",
              " 'pressure_diff',\n",
              " 'dew_point_spread',\n",
              " 'humidity_lag1']"
            ]
          },
          "execution_count": 11,
          "metadata": {},
          "output_type": "execute_result"
        }
      ],
      "source": [
        "non_numerical_cols_to_remove = ['datetime', 'kecamatan', 'sunrise', 'sunset', 'conditions', 'icon', 'description', 'stations', 'source']\n",
        "\n",
        "features = [\n",
        "    col for col in df.select_dtypes(include=['int64', 'float64']).columns\n",
        "    if col not in non_numerical_cols_to_remove and col not in targets and col != 'kecamatan_encoded'\n",
        "]\n",
        "\n",
        "date_features = ['year', 'month', 'day', 'weekday', 'pressure_diff', 'dew_point_spread', f'humidity_lag{LAG_PERIOD}']\n",
        "\n",
        "features"
      ]
    },
    {
      "cell_type": "code",
      "execution_count": 12,
      "metadata": {
        "id": "hQRyd7RZ5tUr"
      },
      "outputs": [],
      "source": [
        "label_encoder = LabelEncoder()\n",
        "df['kecamatan_encoded'] = label_encoder.fit_transform(df['kecamatan'])\n",
        "X_cat = df['kecamatan_encoded'].values.reshape(-1, 1)"
      ]
    },
    {
      "cell_type": "code",
      "execution_count": 13,
      "metadata": {
        "id": "tTEUygPOO1bf"
      },
      "outputs": [],
      "source": [
        "non_numeric_cols = ['stations', 'source']\n",
        "numeric_features = [col for col in features if col not in non_numeric_cols]\n",
        "\n",
        "X_num = df[numeric_features].values\n",
        "\n",
        "y = df[targets].values"
      ]
    },
    {
      "cell_type": "code",
      "execution_count": 14,
      "metadata": {
        "id": "MkGvD8huO4T4"
      },
      "outputs": [],
      "source": [
        "feature_scaler = RobustScaler()\n",
        "target_scaler = RobustScaler()\n",
        "X_num_scaled = feature_scaler.fit_transform(X_num)\n",
        "y_scaled = target_scaler.fit_transform(y)"
      ]
    },
    {
      "cell_type": "markdown",
      "metadata": {
        "id": "L-2elfqThqUk"
      },
      "source": [
        "## Split Data"
      ]
    },
    {
      "cell_type": "code",
      "execution_count": 15,
      "metadata": {
        "id": "shjW2w_TO5l8"
      },
      "outputs": [],
      "source": [
        "def create_sequences(X_num, X_cat, y, time_steps=7):\n",
        "  Xs_num, Xs_cat, ys = [], [], []\n",
        "  for i in range(len(X_num) - time_steps):\n",
        "    Xs_num.append(X_num[i:i+time_steps])\n",
        "    Xs_cat.append(X_cat[i+time_steps])\n",
        "    ys.append(y[i+time_steps])\n",
        "  return np.array(Xs_num), np.array(Xs_cat), np.array(ys)\n",
        "\n",
        "TIME_STEPS = 7\n",
        "X_seq_num, X_seq_cat, y_seq = create_sequences(X_num_scaled, X_cat, y_scaled, TIME_STEPS)"
      ]
    },
    {
      "cell_type": "code",
      "execution_count": 16,
      "metadata": {
        "id": "NrSK8vE0O8zA"
      },
      "outputs": [],
      "source": [
        "dates = df['datetime'].values[TIME_STEPS:]\n",
        "train_idx = [i for i, d in enumerate(dates) if pd.to_datetime(d).year <= 2023]\n",
        "test_idx = [i for i, d in enumerate(dates) if pd.to_datetime(d).year > 2023]"
      ]
    },
    {
      "cell_type": "code",
      "execution_count": 17,
      "metadata": {
        "id": "l3J7tvUHPAR2"
      },
      "outputs": [],
      "source": [
        "X_train_num, X_train_cat, y_train = X_seq_num[train_idx], X_seq_cat[train_idx], y_seq[train_idx]\n",
        "X_test_num, X_test_cat, y_test = X_seq_num[test_idx], X_seq_cat[test_idx], y_seq[test_idx]\n"
      ]
    },
    {
      "cell_type": "markdown",
      "metadata": {
        "id": "ZG6flF8fhs89"
      },
      "source": [
        "## Model Building"
      ]
    },
    {
      "cell_type": "code",
      "execution_count": 18,
      "metadata": {
        "colab": {
          "base_uri": "https://localhost:8080/",
          "height": 625
        },
        "id": "zxC7apzgPD3B",
        "outputId": "905e2d00-7b2b-416d-a59e-0322daa2c9d6"
      },
      "outputs": [
        {
          "data": {
            "text/html": [
              "<pre style=\"white-space:pre;overflow-x:auto;line-height:normal;font-family:Menlo,'DejaVu Sans Mono',consolas,'Courier New',monospace\"><span style=\"font-weight: bold\">Model: \"functional\"</span>\n",
              "</pre>\n"
            ],
            "text/plain": [
              "\u001b[1mModel: \"functional\"\u001b[0m\n"
            ]
          },
          "metadata": {},
          "output_type": "display_data"
        },
        {
          "data": {
            "text/html": [
              "<pre style=\"white-space:pre;overflow-x:auto;line-height:normal;font-family:Menlo,'DejaVu Sans Mono',consolas,'Courier New',monospace\">┏━━━━━━━━━━━━━━━━━━━━━┳━━━━━━━━━━━━━━━━━━━┳━━━━━━━━━━━━┳━━━━━━━━━━━━━━━━━━━┓\n",
              "┃<span style=\"font-weight: bold\"> Layer (type)        </span>┃<span style=\"font-weight: bold\"> Output Shape      </span>┃<span style=\"font-weight: bold\">    Param # </span>┃<span style=\"font-weight: bold\"> Connected to      </span>┃\n",
              "┡━━━━━━━━━━━━━━━━━━━━━╇━━━━━━━━━━━━━━━━━━━╇━━━━━━━━━━━━╇━━━━━━━━━━━━━━━━━━━┩\n",
              "│ kecamatan_input     │ (<span style=\"color: #00d7ff; text-decoration-color: #00d7ff\">None</span>, <span style=\"color: #00af00; text-decoration-color: #00af00\">1</span>)         │          <span style=\"color: #00af00; text-decoration-color: #00af00\">0</span> │ -                 │\n",
              "│ (<span style=\"color: #0087ff; text-decoration-color: #0087ff\">InputLayer</span>)        │                   │            │                   │\n",
              "├─────────────────────┼───────────────────┼────────────┼───────────────────┤\n",
              "│ embedding           │ (<span style=\"color: #00d7ff; text-decoration-color: #00d7ff\">None</span>, <span style=\"color: #00af00; text-decoration-color: #00af00\">1</span>, <span style=\"color: #00af00; text-decoration-color: #00af00\">8</span>)      │      <span style=\"color: #00af00; text-decoration-color: #00af00\">1,568</span> │ kecamatan_input[<span style=\"color: #00af00; text-decoration-color: #00af00\">…</span> │\n",
              "│ (<span style=\"color: #0087ff; text-decoration-color: #0087ff\">Embedding</span>)         │                   │            │                   │\n",
              "├─────────────────────┼───────────────────┼────────────┼───────────────────┤\n",
              "│ flatten (<span style=\"color: #0087ff; text-decoration-color: #0087ff\">Flatten</span>)   │ (<span style=\"color: #00d7ff; text-decoration-color: #00d7ff\">None</span>, <span style=\"color: #00af00; text-decoration-color: #00af00\">8</span>)         │          <span style=\"color: #00af00; text-decoration-color: #00af00\">0</span> │ embedding[<span style=\"color: #00af00; text-decoration-color: #00af00\">0</span>][<span style=\"color: #00af00; text-decoration-color: #00af00\">0</span>]   │\n",
              "├─────────────────────┼───────────────────┼────────────┼───────────────────┤\n",
              "│ numerical_input     │ (<span style=\"color: #00d7ff; text-decoration-color: #00d7ff\">None</span>, <span style=\"color: #00af00; text-decoration-color: #00af00\">7</span>, <span style=\"color: #00af00; text-decoration-color: #00af00\">26</span>)     │          <span style=\"color: #00af00; text-decoration-color: #00af00\">0</span> │ -                 │\n",
              "│ (<span style=\"color: #0087ff; text-decoration-color: #0087ff\">InputLayer</span>)        │                   │            │                   │\n",
              "├─────────────────────┼───────────────────┼────────────┼───────────────────┤\n",
              "│ repeat_vector       │ (<span style=\"color: #00d7ff; text-decoration-color: #00d7ff\">None</span>, <span style=\"color: #00af00; text-decoration-color: #00af00\">7</span>, <span style=\"color: #00af00; text-decoration-color: #00af00\">8</span>)      │          <span style=\"color: #00af00; text-decoration-color: #00af00\">0</span> │ flatten[<span style=\"color: #00af00; text-decoration-color: #00af00\">0</span>][<span style=\"color: #00af00; text-decoration-color: #00af00\">0</span>]     │\n",
              "│ (<span style=\"color: #0087ff; text-decoration-color: #0087ff\">RepeatVector</span>)      │                   │            │                   │\n",
              "├─────────────────────┼───────────────────┼────────────┼───────────────────┤\n",
              "│ concatenate         │ (<span style=\"color: #00d7ff; text-decoration-color: #00d7ff\">None</span>, <span style=\"color: #00af00; text-decoration-color: #00af00\">7</span>, <span style=\"color: #00af00; text-decoration-color: #00af00\">34</span>)     │          <span style=\"color: #00af00; text-decoration-color: #00af00\">0</span> │ numerical_input[<span style=\"color: #00af00; text-decoration-color: #00af00\">…</span> │\n",
              "│ (<span style=\"color: #0087ff; text-decoration-color: #0087ff\">Concatenate</span>)       │                   │            │ repeat_vector[<span style=\"color: #00af00; text-decoration-color: #00af00\">0</span>]… │\n",
              "├─────────────────────┼───────────────────┼────────────┼───────────────────┤\n",
              "│ bidirectional       │ (<span style=\"color: #00d7ff; text-decoration-color: #00d7ff\">None</span>, <span style=\"color: #00af00; text-decoration-color: #00af00\">7</span>, <span style=\"color: #00af00; text-decoration-color: #00af00\">128</span>)    │     <span style=\"color: #00af00; text-decoration-color: #00af00\">50,688</span> │ concatenate[<span style=\"color: #00af00; text-decoration-color: #00af00\">0</span>][<span style=\"color: #00af00; text-decoration-color: #00af00\">0</span>] │\n",
              "│ (<span style=\"color: #0087ff; text-decoration-color: #0087ff\">Bidirectional</span>)     │                   │            │                   │\n",
              "├─────────────────────┼───────────────────┼────────────┼───────────────────┤\n",
              "│ dropout (<span style=\"color: #0087ff; text-decoration-color: #0087ff\">Dropout</span>)   │ (<span style=\"color: #00d7ff; text-decoration-color: #00d7ff\">None</span>, <span style=\"color: #00af00; text-decoration-color: #00af00\">7</span>, <span style=\"color: #00af00; text-decoration-color: #00af00\">128</span>)    │          <span style=\"color: #00af00; text-decoration-color: #00af00\">0</span> │ bidirectional[<span style=\"color: #00af00; text-decoration-color: #00af00\">0</span>]… │\n",
              "├─────────────────────┼───────────────────┼────────────┼───────────────────┤\n",
              "│ bidirectional_1     │ (<span style=\"color: #00d7ff; text-decoration-color: #00d7ff\">None</span>, <span style=\"color: #00af00; text-decoration-color: #00af00\">64</span>)        │     <span style=\"color: #00af00; text-decoration-color: #00af00\">41,216</span> │ dropout[<span style=\"color: #00af00; text-decoration-color: #00af00\">0</span>][<span style=\"color: #00af00; text-decoration-color: #00af00\">0</span>]     │\n",
              "│ (<span style=\"color: #0087ff; text-decoration-color: #0087ff\">Bidirectional</span>)     │                   │            │                   │\n",
              "├─────────────────────┼───────────────────┼────────────┼───────────────────┤\n",
              "│ dropout_1 (<span style=\"color: #0087ff; text-decoration-color: #0087ff\">Dropout</span>) │ (<span style=\"color: #00d7ff; text-decoration-color: #00d7ff\">None</span>, <span style=\"color: #00af00; text-decoration-color: #00af00\">64</span>)        │          <span style=\"color: #00af00; text-decoration-color: #00af00\">0</span> │ bidirectional_1[<span style=\"color: #00af00; text-decoration-color: #00af00\">…</span> │\n",
              "├─────────────────────┼───────────────────┼────────────┼───────────────────┤\n",
              "│ dense (<span style=\"color: #0087ff; text-decoration-color: #0087ff\">Dense</span>)       │ (<span style=\"color: #00d7ff; text-decoration-color: #00d7ff\">None</span>, <span style=\"color: #00af00; text-decoration-color: #00af00\">32</span>)        │      <span style=\"color: #00af00; text-decoration-color: #00af00\">2,080</span> │ dropout_1[<span style=\"color: #00af00; text-decoration-color: #00af00\">0</span>][<span style=\"color: #00af00; text-decoration-color: #00af00\">0</span>]   │\n",
              "├─────────────────────┼───────────────────┼────────────┼───────────────────┤\n",
              "│ dense_1 (<span style=\"color: #0087ff; text-decoration-color: #0087ff\">Dense</span>)     │ (<span style=\"color: #00d7ff; text-decoration-color: #00d7ff\">None</span>, <span style=\"color: #00af00; text-decoration-color: #00af00\">4</span>)         │        <span style=\"color: #00af00; text-decoration-color: #00af00\">132</span> │ dense[<span style=\"color: #00af00; text-decoration-color: #00af00\">0</span>][<span style=\"color: #00af00; text-decoration-color: #00af00\">0</span>]       │\n",
              "└─────────────────────┴───────────────────┴────────────┴───────────────────┘\n",
              "</pre>\n"
            ],
            "text/plain": [
              "┏━━━━━━━━━━━━━━━━━━━━━┳━━━━━━━━━━━━━━━━━━━┳━━━━━━━━━━━━┳━━━━━━━━━━━━━━━━━━━┓\n",
              "┃\u001b[1m \u001b[0m\u001b[1mLayer (type)       \u001b[0m\u001b[1m \u001b[0m┃\u001b[1m \u001b[0m\u001b[1mOutput Shape     \u001b[0m\u001b[1m \u001b[0m┃\u001b[1m \u001b[0m\u001b[1m   Param #\u001b[0m\u001b[1m \u001b[0m┃\u001b[1m \u001b[0m\u001b[1mConnected to     \u001b[0m\u001b[1m \u001b[0m┃\n",
              "┡━━━━━━━━━━━━━━━━━━━━━╇━━━━━━━━━━━━━━━━━━━╇━━━━━━━━━━━━╇━━━━━━━━━━━━━━━━━━━┩\n",
              "│ kecamatan_input     │ (\u001b[38;5;45mNone\u001b[0m, \u001b[38;5;34m1\u001b[0m)         │          \u001b[38;5;34m0\u001b[0m │ -                 │\n",
              "│ (\u001b[38;5;33mInputLayer\u001b[0m)        │                   │            │                   │\n",
              "├─────────────────────┼───────────────────┼────────────┼───────────────────┤\n",
              "│ embedding           │ (\u001b[38;5;45mNone\u001b[0m, \u001b[38;5;34m1\u001b[0m, \u001b[38;5;34m8\u001b[0m)      │      \u001b[38;5;34m1,568\u001b[0m │ kecamatan_input[\u001b[38;5;34m…\u001b[0m │\n",
              "│ (\u001b[38;5;33mEmbedding\u001b[0m)         │                   │            │                   │\n",
              "├─────────────────────┼───────────────────┼────────────┼───────────────────┤\n",
              "│ flatten (\u001b[38;5;33mFlatten\u001b[0m)   │ (\u001b[38;5;45mNone\u001b[0m, \u001b[38;5;34m8\u001b[0m)         │          \u001b[38;5;34m0\u001b[0m │ embedding[\u001b[38;5;34m0\u001b[0m][\u001b[38;5;34m0\u001b[0m]   │\n",
              "├─────────────────────┼───────────────────┼────────────┼───────────────────┤\n",
              "│ numerical_input     │ (\u001b[38;5;45mNone\u001b[0m, \u001b[38;5;34m7\u001b[0m, \u001b[38;5;34m26\u001b[0m)     │          \u001b[38;5;34m0\u001b[0m │ -                 │\n",
              "│ (\u001b[38;5;33mInputLayer\u001b[0m)        │                   │            │                   │\n",
              "├─────────────────────┼───────────────────┼────────────┼───────────────────┤\n",
              "│ repeat_vector       │ (\u001b[38;5;45mNone\u001b[0m, \u001b[38;5;34m7\u001b[0m, \u001b[38;5;34m8\u001b[0m)      │          \u001b[38;5;34m0\u001b[0m │ flatten[\u001b[38;5;34m0\u001b[0m][\u001b[38;5;34m0\u001b[0m]     │\n",
              "│ (\u001b[38;5;33mRepeatVector\u001b[0m)      │                   │            │                   │\n",
              "├─────────────────────┼───────────────────┼────────────┼───────────────────┤\n",
              "│ concatenate         │ (\u001b[38;5;45mNone\u001b[0m, \u001b[38;5;34m7\u001b[0m, \u001b[38;5;34m34\u001b[0m)     │          \u001b[38;5;34m0\u001b[0m │ numerical_input[\u001b[38;5;34m…\u001b[0m │\n",
              "│ (\u001b[38;5;33mConcatenate\u001b[0m)       │                   │            │ repeat_vector[\u001b[38;5;34m0\u001b[0m]… │\n",
              "├─────────────────────┼───────────────────┼────────────┼───────────────────┤\n",
              "│ bidirectional       │ (\u001b[38;5;45mNone\u001b[0m, \u001b[38;5;34m7\u001b[0m, \u001b[38;5;34m128\u001b[0m)    │     \u001b[38;5;34m50,688\u001b[0m │ concatenate[\u001b[38;5;34m0\u001b[0m][\u001b[38;5;34m0\u001b[0m] │\n",
              "│ (\u001b[38;5;33mBidirectional\u001b[0m)     │                   │            │                   │\n",
              "├─────────────────────┼───────────────────┼────────────┼───────────────────┤\n",
              "│ dropout (\u001b[38;5;33mDropout\u001b[0m)   │ (\u001b[38;5;45mNone\u001b[0m, \u001b[38;5;34m7\u001b[0m, \u001b[38;5;34m128\u001b[0m)    │          \u001b[38;5;34m0\u001b[0m │ bidirectional[\u001b[38;5;34m0\u001b[0m]… │\n",
              "├─────────────────────┼───────────────────┼────────────┼───────────────────┤\n",
              "│ bidirectional_1     │ (\u001b[38;5;45mNone\u001b[0m, \u001b[38;5;34m64\u001b[0m)        │     \u001b[38;5;34m41,216\u001b[0m │ dropout[\u001b[38;5;34m0\u001b[0m][\u001b[38;5;34m0\u001b[0m]     │\n",
              "│ (\u001b[38;5;33mBidirectional\u001b[0m)     │                   │            │                   │\n",
              "├─────────────────────┼───────────────────┼────────────┼───────────────────┤\n",
              "│ dropout_1 (\u001b[38;5;33mDropout\u001b[0m) │ (\u001b[38;5;45mNone\u001b[0m, \u001b[38;5;34m64\u001b[0m)        │          \u001b[38;5;34m0\u001b[0m │ bidirectional_1[\u001b[38;5;34m…\u001b[0m │\n",
              "├─────────────────────┼───────────────────┼────────────┼───────────────────┤\n",
              "│ dense (\u001b[38;5;33mDense\u001b[0m)       │ (\u001b[38;5;45mNone\u001b[0m, \u001b[38;5;34m32\u001b[0m)        │      \u001b[38;5;34m2,080\u001b[0m │ dropout_1[\u001b[38;5;34m0\u001b[0m][\u001b[38;5;34m0\u001b[0m]   │\n",
              "├─────────────────────┼───────────────────┼────────────┼───────────────────┤\n",
              "│ dense_1 (\u001b[38;5;33mDense\u001b[0m)     │ (\u001b[38;5;45mNone\u001b[0m, \u001b[38;5;34m4\u001b[0m)         │        \u001b[38;5;34m132\u001b[0m │ dense[\u001b[38;5;34m0\u001b[0m][\u001b[38;5;34m0\u001b[0m]       │\n",
              "└─────────────────────┴───────────────────┴────────────┴───────────────────┘\n"
            ]
          },
          "metadata": {},
          "output_type": "display_data"
        },
        {
          "data": {
            "text/html": [
              "<pre style=\"white-space:pre;overflow-x:auto;line-height:normal;font-family:Menlo,'DejaVu Sans Mono',consolas,'Courier New',monospace\"><span style=\"font-weight: bold\"> Total params: </span><span style=\"color: #00af00; text-decoration-color: #00af00\">95,684</span> (373.77 KB)\n",
              "</pre>\n"
            ],
            "text/plain": [
              "\u001b[1m Total params: \u001b[0m\u001b[38;5;34m95,684\u001b[0m (373.77 KB)\n"
            ]
          },
          "metadata": {},
          "output_type": "display_data"
        },
        {
          "data": {
            "text/html": [
              "<pre style=\"white-space:pre;overflow-x:auto;line-height:normal;font-family:Menlo,'DejaVu Sans Mono',consolas,'Courier New',monospace\"><span style=\"font-weight: bold\"> Trainable params: </span><span style=\"color: #00af00; text-decoration-color: #00af00\">95,684</span> (373.77 KB)\n",
              "</pre>\n"
            ],
            "text/plain": [
              "\u001b[1m Trainable params: \u001b[0m\u001b[38;5;34m95,684\u001b[0m (373.77 KB)\n"
            ]
          },
          "metadata": {},
          "output_type": "display_data"
        },
        {
          "data": {
            "text/html": [
              "<pre style=\"white-space:pre;overflow-x:auto;line-height:normal;font-family:Menlo,'DejaVu Sans Mono',consolas,'Courier New',monospace\"><span style=\"font-weight: bold\"> Non-trainable params: </span><span style=\"color: #00af00; text-decoration-color: #00af00\">0</span> (0.00 B)\n",
              "</pre>\n"
            ],
            "text/plain": [
              "\u001b[1m Non-trainable params: \u001b[0m\u001b[38;5;34m0\u001b[0m (0.00 B)\n"
            ]
          },
          "metadata": {},
          "output_type": "display_data"
        }
      ],
      "source": [
        "n_features = X_train_num.shape[2]\n",
        "n_kecamatan = df['kecamatan_encoded'].nunique()\n",
        "\n",
        "input_num = Input(shape=(TIME_STEPS, n_features), name='numerical_input')\n",
        "input_cat = Input(shape=(1,), name='kecamatan_input')\n",
        "\n",
        "l2_lambda = 0.001\n",
        "\n",
        "embedding_dim = 8\n",
        "embedded_cat = Embedding(input_dim=n_kecamatan, output_dim=embedding_dim)(input_cat)\n",
        "embedded_cat_flat = Flatten()(embedded_cat)\n",
        "repeated_cat = RepeatVector(TIME_STEPS)(embedded_cat_flat)\n",
        "\n",
        "combined = Concatenate()([input_num, repeated_cat])\n",
        "\n",
        "x = Bidirectional(LSTM(64, return_sequences=True, kernel_regularizer=regularizers.l2(l2_lambda)))(combined)\n",
        "x = Dropout(0.3)(x)\n",
        "x = Bidirectional(LSTM(32, kernel_regularizer=regularizers.l2(l2_lambda)))(x)\n",
        "x = Dropout(0.3)(x)\n",
        "x = Dense(32, activation='relu', kernel_regularizer=regularizers.l2(l2_lambda))(x)\n",
        "output = Dense(len(targets))(x)\n",
        "\n",
        "model = Model(inputs=[input_num, input_cat], outputs=output)\n",
        "model.compile(optimizer='adam', loss='mse', metrics=[tf.keras.metrics.MeanAbsoluteError()])\n",
        "model.summary()"
      ]
    },
    {
      "cell_type": "code",
      "execution_count": 19,
      "metadata": {
        "colab": {
          "base_uri": "https://localhost:8080/"
        },
        "id": "LeSGaJa5H9oq",
        "outputId": "1991cc93-c6c1-4a7b-9ba2-bb2a8fe8da85"
      },
      "outputs": [
        {
          "name": "stdout",
          "output_type": "stream",
          "text": [
            "Epoch 1/50\n",
            "\u001b[1m6862/6862\u001b[0m \u001b[32m━━━━━━━━━━━━━━━━━━━━\u001b[0m\u001b[37m\u001b[0m \u001b[1m59s\u001b[0m 8ms/step - loss: 191.3611 - mean_absolute_error: 4.0095 - val_loss: 231.9261 - val_mean_absolute_error: 4.7743\n",
            "Epoch 2/50\n",
            "\u001b[1m6862/6862\u001b[0m \u001b[32m━━━━━━━━━━━━━━━━━━━━\u001b[0m\u001b[37m\u001b[0m \u001b[1m48s\u001b[0m 7ms/step - loss: 173.5249 - mean_absolute_error: 3.7530 - val_loss: 218.8546 - val_mean_absolute_error: 4.4660\n",
            "Epoch 3/50\n",
            "\u001b[1m6862/6862\u001b[0m \u001b[32m━━━━━━━━━━━━━━━━━━━━\u001b[0m\u001b[37m\u001b[0m \u001b[1m42s\u001b[0m 6ms/step - loss: 169.6272 - mean_absolute_error: 3.6696 - val_loss: 212.8428 - val_mean_absolute_error: 4.3350\n",
            "Epoch 4/50\n",
            "\u001b[1m6862/6862\u001b[0m \u001b[32m━━━━━━━━━━━━━━━━━━━━\u001b[0m\u001b[37m\u001b[0m \u001b[1m51s\u001b[0m 7ms/step - loss: 166.0251 - mean_absolute_error: 3.5949 - val_loss: 212.2008 - val_mean_absolute_error: 4.3190\n",
            "Epoch 5/50\n",
            "\u001b[1m6862/6862\u001b[0m \u001b[32m━━━━━━━━━━━━━━━━━━━━\u001b[0m\u001b[37m\u001b[0m \u001b[1m46s\u001b[0m 7ms/step - loss: 160.5522 - mean_absolute_error: 3.4903 - val_loss: 212.3490 - val_mean_absolute_error: 4.1090\n",
            "Epoch 6/50\n",
            "\u001b[1m6862/6862\u001b[0m \u001b[32m━━━━━━━━━━━━━━━━━━━━\u001b[0m\u001b[37m\u001b[0m \u001b[1m47s\u001b[0m 7ms/step - loss: 154.1869 - mean_absolute_error: 3.3619 - val_loss: 215.0869 - val_mean_absolute_error: 4.3334\n",
            "Epoch 7/50\n",
            "\u001b[1m6862/6862\u001b[0m \u001b[32m━━━━━━━━━━━━━━━━━━━━\u001b[0m\u001b[37m\u001b[0m \u001b[1m53s\u001b[0m 8ms/step - loss: 148.8200 - mean_absolute_error: 3.2670 - val_loss: 215.8978 - val_mean_absolute_error: 4.2494\n",
            "Epoch 8/50\n",
            "\u001b[1m6862/6862\u001b[0m \u001b[32m━━━━━━━━━━━━━━━━━━━━\u001b[0m\u001b[37m\u001b[0m \u001b[1m51s\u001b[0m 7ms/step - loss: 142.4675 - mean_absolute_error: 3.1398 - val_loss: 213.9211 - val_mean_absolute_error: 4.0746\n",
            "Epoch 9/50\n",
            "\u001b[1m6862/6862\u001b[0m \u001b[32m━━━━━━━━━━━━━━━━━━━━\u001b[0m\u001b[37m\u001b[0m \u001b[1m45s\u001b[0m 7ms/step - loss: 134.4906 - mean_absolute_error: 2.9816 - val_loss: 215.3086 - val_mean_absolute_error: 4.0499\n",
            "Epoch 10/50\n",
            "\u001b[1m6862/6862\u001b[0m \u001b[32m━━━━━━━━━━━━━━━━━━━━\u001b[0m\u001b[37m\u001b[0m \u001b[1m49s\u001b[0m 7ms/step - loss: 129.4836 - mean_absolute_error: 2.8898 - val_loss: 215.7080 - val_mean_absolute_error: 4.0515\n",
            "Epoch 11/50\n",
            "\u001b[1m6862/6862\u001b[0m \u001b[32m━━━━━━━━━━━━━━━━━━━━\u001b[0m\u001b[37m\u001b[0m \u001b[1m45s\u001b[0m 7ms/step - loss: 121.8177 - mean_absolute_error: 2.7436 - val_loss: 214.2585 - val_mean_absolute_error: 4.0272\n",
            "Epoch 12/50\n",
            "\u001b[1m6862/6862\u001b[0m \u001b[32m━━━━━━━━━━━━━━━━━━━━\u001b[0m\u001b[37m\u001b[0m \u001b[1m44s\u001b[0m 6ms/step - loss: 119.8271 - mean_absolute_error: 2.7123 - val_loss: 214.3599 - val_mean_absolute_error: 3.9963\n",
            "Epoch 13/50\n",
            "\u001b[1m6862/6862\u001b[0m \u001b[32m━━━━━━━━━━━━━━━━━━━━\u001b[0m\u001b[37m\u001b[0m \u001b[1m82s\u001b[0m 6ms/step - loss: 114.7145 - mean_absolute_error: 2.6041 - val_loss: 221.4513 - val_mean_absolute_error: 4.0039\n",
            "Epoch 14/50\n",
            "\u001b[1m6862/6862\u001b[0m \u001b[32m━━━━━━━━━━━━━━━━━━━━\u001b[0m\u001b[37m\u001b[0m \u001b[1m44s\u001b[0m 6ms/step - loss: 113.0126 - mean_absolute_error: 2.5676 - val_loss: 218.5003 - val_mean_absolute_error: 4.0442\n"
          ]
        }
      ],
      "source": [
        "early_stop = EarlyStopping(monitor='val_loss', patience=10, restore_best_weights=True)\n",
        "\n",
        "history = model.fit(\n",
        "  [X_train_num, X_train_cat], y_train,\n",
        "  validation_split=0.2,\n",
        "  epochs=50,\n",
        "  batch_size=32,\n",
        "  callbacks=[early_stop],\n",
        "  verbose=1\n",
        ")"
      ]
    },
    {
      "cell_type": "markdown",
      "metadata": {
        "id": "8XvFx6dXhvRO"
      },
      "source": [
        "## Model Evaluation"
      ]
    },
    {
      "cell_type": "code",
      "execution_count": 20,
      "metadata": {
        "id": "8ZAjK6gnPHRw"
      },
      "outputs": [
        {
          "data": {
            "image/png": "[encoded data removed]",
            "text/plain": [
              "<Figure size 640x480 with 1 Axes>"
            ]
          },
          "metadata": {},
          "output_type": "display_data"
        }
      ],
      "source": [
        "plt.plot(history.history['loss'], label='train loss')\n",
        "plt.plot(history.history['val_loss'], label='val loss')\n",
        "plt.legend()\n",
        "plt.title('Model Loss')\n",
        "plt.xlabel('Epoch')\n",
        "plt.ylabel('MSE Loss')\n",
        "plt.show()"
      ]
    },
    {
      "cell_type": "code",
      "execution_count": 21,
      "metadata": {
        "id": "XfcYr10aPIiw"
      },
      "outputs": [
        {
          "name": "stdout",
          "output_type": "stream",
          "text": [
            "\u001b[1m3005/3005\u001b[0m \u001b[32m━━━━━━━━━━━━━━━━━━━━\u001b[0m\u001b[37m\u001b[0m \u001b[1m7s\u001b[0m 2ms/step\n",
            "Metrics for precipprob:\n",
            "  MSE: 1000.6117\n",
            "  RMSE: 31.6324\n",
            "  MAE: 16.8852\n",
            "  R2: 0.3014\n",
            "\n",
            "Metrics for windspeed:\n",
            "  MSE: 38.4400\n",
            "  RMSE: 6.2000\n",
            "  MAE: 4.4154\n",
            "  R2: 0.3024\n",
            "\n",
            "Metrics for temp:\n",
            "  MSE: 2.9711\n",
            "  RMSE: 1.7237\n",
            "  MAE: 1.2237\n",
            "  R2: 0.7105\n",
            "\n",
            "Metrics for humidity:\n",
            "  MSE: 26.5953\n",
            "  RMSE: 5.1571\n",
            "  MAE: 3.6536\n",
            "  R2: 0.5023\n",
            "\n"
          ]
        }
      ],
      "source": [
        "y_pred_scaled = model.predict([X_test_num, X_test_cat])\n",
        "y_pred = target_scaler.inverse_transform(y_pred_scaled)\n",
        "y_true = target_scaler.inverse_transform(y_test)\n",
        "\n",
        "metrics = {}\n",
        "for i, target_name in enumerate(targets):\n",
        "  mse = mean_squared_error(y_true[:, i], y_pred[:, i])\n",
        "  rmse = np.sqrt(mse)\n",
        "  mae = mean_absolute_error(y_true[:, i], y_pred[:, i])\n",
        "  r2 = r2_score(y_true[:, i], y_pred[:, i])\n",
        "  metrics[target_name] = {'MSE': mse, 'RMSE': rmse, 'MAE': mae, 'R2': r2}\n",
        "\n",
        "for target_name, vals in metrics.items():\n",
        "  print(f\"Metrics for {target_name}:\")\n",
        "  print(f\"  MSE: {vals['MSE']:.4f}\")\n",
        "  print(f\"  RMSE: {vals['RMSE']:.4f}\")\n",
        "  print(f\"  MAE: {vals['MAE']:.4f}\")\n",
        "  print(f\"  R2: {vals['R2']:.4f}\")\n",
        "  print()"
      ]
    },
    {
      "cell_type": "markdown",
      "metadata": {
        "id": "wHGem_0_gk4a"
      },
      "source": [
        "## Save Model"
      ]
    },
    {
      "cell_type": "code",
      "execution_count": 22,
      "metadata": {},
      "outputs": [
        {
          "name": "stdout",
          "output_type": "stream",
          "text": [
            "Preprocessors saved to weather_preprocessors.pkl\n",
            "Feature list saved to weather_feature_list.pkl\n"
          ]
        }
      ],
      "source": [
        "preprocessor_save_path = 'weather_preprocessors.pkl'\n",
        "features_list_save_path = 'weather_feature_list.pkl'\n",
        "\n",
        "with open(preprocessor_save_path, 'wb') as f:\n",
        "    pickle.dump({\n",
        "        'feature_scaler': feature_scaler,\n",
        "        'target_scaler': target_scaler,\n",
        "        'label_encoder': label_encoder\n",
        "    }, f)\n",
        "print(f\"Preprocessors saved to {preprocessor_save_path}\")\n",
        "\n",
        "with open(features_list_save_path, 'wb') as f:\n",
        "    pickle.dump(features, f) \n",
        "print(f\"Feature list saved to {features_list_save_path}\")"
      ]
    },
    {
      "cell_type": "code",
      "execution_count": 23,
      "metadata": {
        "id": "1otm-rtKgh8W"
      },
      "outputs": [
        {
          "name": "stdout",
          "output_type": "stream",
          "text": [
            "Model saved to weather_prediction_lstm_model.keras\n"
          ]
        }
      ],
      "source": [
        "keras_model_save_path = 'weather_prediction_lstm_model.keras'\n",
        "model.save(keras_model_save_path)\n",
        "print(f\"Model saved to {keras_model_save_path}\")"
      ]
    },
    {
      "cell_type": "code",
      "execution_count": 24,
      "metadata": {
        "id": "c70StGrggi15"
      },
      "outputs": [
        {
          "name": "stdout",
          "output_type": "stream",
          "text": [
            "INFO:tensorflow:Assets written to: weather_prediction_lstm_model/assets\n"
          ]
        },
        {
          "name": "stderr",
          "output_type": "stream",
          "text": [
            "INFO:tensorflow:Assets written to: weather_prediction_lstm_model/assets\n"
          ]
        },
        {
          "name": "stdout",
          "output_type": "stream",
          "text": [
            "Saved artifact at 'weather_prediction_lstm_model/'. The following endpoints are available:\n",
            "\n",
            "* Endpoint 'serve'\n",
            "  args_0 (POSITIONAL_ONLY): List[TensorSpec(shape=(None, 7, 26), dtype=tf.float32, name='numerical_input'), TensorSpec(shape=(None, 1), dtype=tf.float32, name='kecamatan_input')]\n",
            "Output Type:\n",
            "  TensorSpec(shape=(None, 4), dtype=tf.float32, name=None)\n",
            "Captures:\n",
            "  2385373601936: TensorSpec(shape=(), dtype=tf.resource, name=None)\n",
            "  2385373601552: TensorSpec(shape=(), dtype=tf.resource, name=None)\n",
            "  2385373604048: TensorSpec(shape=(), dtype=tf.resource, name=None)\n",
            "  2385373607504: TensorSpec(shape=(), dtype=tf.resource, name=None)\n",
            "  2385373606928: TensorSpec(shape=(), dtype=tf.resource, name=None)\n",
            "  2385373604816: TensorSpec(shape=(), dtype=tf.resource, name=None)\n",
            "  2385373606160: TensorSpec(shape=(), dtype=tf.resource, name=None)\n",
            "  2385373606544: TensorSpec(shape=(), dtype=tf.resource, name=None)\n",
            "  2385373606736: TensorSpec(shape=(), dtype=tf.resource, name=None)\n",
            "  2385373609232: TensorSpec(shape=(), dtype=tf.resource, name=None)\n",
            "  2385373609808: TensorSpec(shape=(), dtype=tf.resource, name=None)\n",
            "  2385373609040: TensorSpec(shape=(), dtype=tf.resource, name=None)\n",
            "  2385373609616: TensorSpec(shape=(), dtype=tf.resource, name=None)\n",
            "  2385373607888: TensorSpec(shape=(), dtype=tf.resource, name=None)\n",
            "  2383758721680: TensorSpec(shape=(), dtype=tf.resource, name=None)\n",
            "  2385373607312: TensorSpec(shape=(), dtype=tf.resource, name=None)\n",
            "  2383758722832: TensorSpec(shape=(), dtype=tf.resource, name=None)\n"
          ]
        }
      ],
      "source": [
        "model.export('weather_prediction_lstm_model/')"
      ]
    }
  ],
  "metadata": {
    "accelerator": "GPU",
    "colab": {
      "gpuType": "T4",
      "provenance": []
    },
    "kernelspec": {
      "display_name": "base",
      "language": "python",
      "name": "python3"
    },
    "language_info": {
      "codemirror_mode": {
        "name": "ipython",
        "version": 3
      },
      "file_extension": ".py",
      "mimetype": "text/x-python",
      "name": "python",
      "nbconvert_exporter": "python",
      "pygments_lexer": "ipython3",
      "version": "3.12.7"
    }
  },
  "nbformat": 4,
  "nbformat_minor": 0
}
